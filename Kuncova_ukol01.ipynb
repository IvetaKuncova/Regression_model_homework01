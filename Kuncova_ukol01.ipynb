{
 "cells": [
  {
   "cell_type": "code",
   "execution_count": 227,
   "metadata": {},
   "outputs": [
    {
     "data": {
      "text/html": [
       "<div>\n",
       "<style scoped>\n",
       "    .dataframe tbody tr th:only-of-type {\n",
       "        vertical-align: middle;\n",
       "    }\n",
       "\n",
       "    .dataframe tbody tr th {\n",
       "        vertical-align: top;\n",
       "    }\n",
       "\n",
       "    .dataframe thead th {\n",
       "        text-align: right;\n",
       "    }\n",
       "</style>\n",
       "<table border=\"1\" class=\"dataframe\">\n",
       "  <thead>\n",
       "    <tr style=\"text-align: right;\">\n",
       "      <th></th>\n",
       "      <th>Serial No.</th>\n",
       "      <th>GRE Score</th>\n",
       "      <th>TOEFL Score</th>\n",
       "      <th>University Rating</th>\n",
       "      <th>SOP</th>\n",
       "      <th>LOR</th>\n",
       "      <th>CGPA</th>\n",
       "      <th>Research</th>\n",
       "      <th>Chance of Admit</th>\n",
       "    </tr>\n",
       "  </thead>\n",
       "  <tbody>\n",
       "    <tr>\n",
       "      <th>0</th>\n",
       "      <td>1</td>\n",
       "      <td>337</td>\n",
       "      <td>118</td>\n",
       "      <td>4</td>\n",
       "      <td>4.5</td>\n",
       "      <td>4.5</td>\n",
       "      <td>9.65</td>\n",
       "      <td>1</td>\n",
       "      <td>0.92</td>\n",
       "    </tr>\n",
       "    <tr>\n",
       "      <th>1</th>\n",
       "      <td>2</td>\n",
       "      <td>324</td>\n",
       "      <td>107</td>\n",
       "      <td>4</td>\n",
       "      <td>4.0</td>\n",
       "      <td>4.5</td>\n",
       "      <td>8.87</td>\n",
       "      <td>1</td>\n",
       "      <td>0.76</td>\n",
       "    </tr>\n",
       "    <tr>\n",
       "      <th>2</th>\n",
       "      <td>3</td>\n",
       "      <td>316</td>\n",
       "      <td>104</td>\n",
       "      <td>3</td>\n",
       "      <td>3.0</td>\n",
       "      <td>3.5</td>\n",
       "      <td>8.00</td>\n",
       "      <td>1</td>\n",
       "      <td>0.72</td>\n",
       "    </tr>\n",
       "    <tr>\n",
       "      <th>3</th>\n",
       "      <td>4</td>\n",
       "      <td>322</td>\n",
       "      <td>110</td>\n",
       "      <td>3</td>\n",
       "      <td>3.5</td>\n",
       "      <td>2.5</td>\n",
       "      <td>8.67</td>\n",
       "      <td>1</td>\n",
       "      <td>0.80</td>\n",
       "    </tr>\n",
       "    <tr>\n",
       "      <th>4</th>\n",
       "      <td>5</td>\n",
       "      <td>314</td>\n",
       "      <td>103</td>\n",
       "      <td>2</td>\n",
       "      <td>2.0</td>\n",
       "      <td>3.0</td>\n",
       "      <td>8.21</td>\n",
       "      <td>0</td>\n",
       "      <td>0.65</td>\n",
       "    </tr>\n",
       "  </tbody>\n",
       "</table>\n",
       "</div>"
      ],
      "text/plain": [
       "   Serial No.  GRE Score  TOEFL Score  University Rating  SOP  LOR   CGPA  \\\n",
       "0           1        337          118                  4  4.5   4.5  9.65   \n",
       "1           2        324          107                  4  4.0   4.5  8.87   \n",
       "2           3        316          104                  3  3.0   3.5  8.00   \n",
       "3           4        322          110                  3  3.5   2.5  8.67   \n",
       "4           5        314          103                  2  2.0   3.0  8.21   \n",
       "\n",
       "   Research  Chance of Admit   \n",
       "0         1              0.92  \n",
       "1         1              0.76  \n",
       "2         1              0.72  \n",
       "3         1              0.80  \n",
       "4         0              0.65  "
      ]
     },
     "execution_count": 227,
     "metadata": {},
     "output_type": "execute_result"
    }
   ],
   "source": [
    "import pandas as pd\n",
    "import seaborn as sns\n",
    "from scipy import stats\n",
    "import numpy as np\n",
    "import statsmodels.formula.api as smf\n",
    "from statsmodels.stats.outliers_influence import OLSInfluence\n",
    "\n",
    "# read data from a file\n",
    "df = pd.read_csv('adm_data.csv')\n",
    "# show first 5 rows\n",
    "df.head()"
   ]
  },
  {
   "cell_type": "markdown",
   "metadata": {},
   "source": [
    "**Normal distribution for TOEFL score:**"
   ]
  },
  {
   "cell_type": "code",
   "execution_count": 228,
   "metadata": {},
   "outputs": [
    {
     "data": {
      "text/plain": [
       "Index(['SerialNo', 'GREscore', 'TOEFLscore', 'UniversityRating', 'SOP', 'LOR',\n",
       "       'CGPA', 'Research', 'ChanceOfAdmit'],\n",
       "      dtype='object')"
      ]
     },
     "execution_count": 228,
     "metadata": {},
     "output_type": "execute_result"
    }
   ],
   "source": [
    "# rename colums\n",
    "df = df.rename(columns={\"Serial No.\" : \"SerialNo\", \"GRE Score\": \"GREscore\", \"TOEFL Score\" : \"TOEFLscore\", \"University Rating\" : \"UniversityRating\", \"Chance of Admit \" : \"ChanceOfAdmit\", \"LOR \" : \"LOR\"})\n",
    "# show column names\n",
    "df.columns"
   ]
  },
  {
   "cell_type": "code",
   "execution_count": 229,
   "metadata": {},
   "outputs": [
    {
     "name": "stdout",
     "output_type": "stream",
     "text": [
      "Mean of TOEFL Score = 107.41 \n",
      "Median of TOEFL Score = 107.00\n"
     ]
    }
   ],
   "source": [
    "# 1. Calculate the mean and median for TOEFL scores.\n",
    "mean = df['TOEFLscore'].mean()\n",
    "median = df['TOEFLscore'].median()\n",
    "print(f'Mean of TOEFL Score = {mean:.2f} \\nMedian of TOEFL Score = {median:.2f}')"
   ]
  },
  {
   "cell_type": "code",
   "execution_count": 230,
   "metadata": {},
   "outputs": [
    {
     "name": "stdout",
     "output_type": "stream",
     "text": [
      "Standard deviation of TOEFL Score = 6.069513777374126\n"
     ]
    }
   ],
   "source": [
    "# 2. Calculate the standard deviation for TOEFL scores.\n",
    "std = df['TOEFLscore'].std()\n",
    "print(f'Standard deviation of TOEFL Score = {std}')"
   ]
  },
  {
   "cell_type": "code",
   "execution_count": 231,
   "metadata": {},
   "outputs": [
    {
     "data": {
      "text/plain": [
       "[Text(0.5, 1.0, 'TOEFL score histogram'), Text(0.5, 0, 'TOEFL score')]"
      ]
     },
     "execution_count": 231,
     "metadata": {},
     "output_type": "execute_result"
    },
    {
     "data": {
      "image/png": "[encoded data removed]",
      "text/plain": [
       "<Figure size 640x480 with 1 Axes>"
      ]
     },
     "metadata": {},
     "output_type": "display_data"
    }
   ],
   "source": [
    "# 3. Create a histogram for the TOEFL score \n",
    "# and be sure to display the estimated Probability distribution curve.\n",
    "min = df['TOEFLscore'].min()\n",
    "max = df['TOEFLscore'].max()\n",
    "\n",
    "# alternatively displot can be used\n",
    "TOEFLhist = sns.histplot(data=df, x='TOEFLscore', bins=range(min, max, 1), kde=True) \n",
    "TOEFLhist.set(title='TOEFL score histogram', xlabel='TOEFL score')\n"
   ]
  },
  {
   "cell_type": "code",
   "execution_count": 232,
   "metadata": {},
   "outputs": [
    {
     "name": "stdout",
     "output_type": "stream",
     "text": [
      "P-value = 0.003945790155853822 which is <= 0.05. \n",
      "Rejecting H0, supporting Ha. Data are not normally distributed.\n"
     ]
    }
   ],
   "source": [
    "# 4. Test whether the TOEFL score is selected from the normal distribution \n",
    "# using a statistical test. Consider the level.\n",
    "\n",
    "# H0 = Data are normally distributed.\n",
    "# Ha = Data are not normally distributed.\n",
    "\n",
    "# Significance level:\n",
    "nt_significance_lvl = 0.05\n",
    "\n",
    "# D'Agostino-Pierson test for normal distribution\n",
    "_, pvalue = stats.normaltest(df['TOEFLscore'])\n",
    "\n",
    "if pvalue > nt_significance_lvl:\n",
    "  print(f'P-value = {pvalue} which is > {nt_significance_lvl}. \\nSupporting H0. Data are normally distributed.')\n",
    "else:\n",
    "  print(f'P-value = {pvalue} which is <= {nt_significance_lvl}. \\nRejecting H0, supporting Ha. Data are not normally distributed.')"
   ]
  },
  {
   "cell_type": "markdown",
   "metadata": {},
   "source": [
    "**Hypothesis testing**"
   ]
  },
  {
   "cell_type": "code",
   "execution_count": 233,
   "metadata": {},
   "outputs": [
    {
     "data": {
      "text/plain": [
       "Research\n",
       "1    219\n",
       "0    181\n",
       "Name: count, dtype: int64"
      ]
     },
     "execution_count": 233,
     "metadata": {},
     "output_type": "execute_result"
    }
   ],
   "source": [
    "# 1. Divide the data into students with and without research experience.\n",
    "Experienced = df[df['Research'] == 1]\n",
    "InExperienced = df[df['Research'] == 0]\n",
    "\n",
    "df['Research'].value_counts()\n"
   ]
  },
  {
   "cell_type": "code",
   "execution_count": 234,
   "metadata": {},
   "outputs": [
    {
     "name": "stdout",
     "output_type": "stream",
     "text": [
      "Experienced students with Research: average GRE score = 322.85388127853884\n",
      "Inexperienced tudents with Research: average GRE score = 309.49171270718233\n"
     ]
    }
   ],
   "source": [
    "# 2. For both groups, use the average GRE score.\n",
    "\n",
    "print(f'Experienced students with Research: average GRE score = {Experienced['GREscore'].mean()}')\n",
    "print(f'Inexperienced tudents with Research: average GRE score = {InExperienced['GREscore'].mean()}')\n"
   ]
  },
  {
   "cell_type": "code",
   "execution_count": 235,
   "metadata": {},
   "outputs": [],
   "source": [
    "# 3. Statistically test whether there is a statistically significant difference \n",
    "# in GRE scores between the two groups of students. \n",
    "# Choose the correct test and remember to comment on the test scores.\n",
    "\n",
    "# Prerequisities:\n",
    "# As we know fro test above (_, pvalue = stats.normaltest(df['TOEFLscore'])), TOEFL score is not normaly distributed.\n"
   ]
  },
  {
   "cell_type": "markdown",
   "metadata": {},
   "source": [
    "One of the group is not normaly distributed, therefore non-parametric test is needed."
   ]
  },
  {
   "cell_type": "code",
   "execution_count": 236,
   "metadata": {},
   "outputs": [
    {
     "name": "stdout",
     "output_type": "stream",
     "text": [
      "P-value = 0.000000000000000000000000000000005716693210824049 which is <= 0.05. \n",
      "Rejecting H0, supporting Ha. \n",
      "Experienced students have a bigger size of GRE score on average than Inexperienced students.\n"
     ]
    }
   ],
   "source": [
    "# non-normal distribution + two independent samples + testing the average = Mann Whitney U test\n",
    "# H0 = Experienced students have the same size of GRE score on average as Inexperienced students.\n",
    "# Ha = Experienced students have a bigger size of GRE score on average than Inexperienced students.\n",
    "\n",
    "_, pvalue = stats.mannwhitneyu(Experienced['GREscore'], InExperienced['GREscore'], alternative='greater')\n",
    "nonsc_pvalue = np.format_float_positional(pvalue)\n",
    "\n",
    "mwu_significance_lvl = 0.05\n",
    "\n",
    "if pvalue > mwu_significance_lvl:\n",
    "  print(f'P-value = {nonsc_pvalue} which is > {mwu_significance_lvl}. \\nSupporting H0. \\nExperienced students have the same size of GRE score on average as Inexperienced students.')\n",
    "else:\n",
    "  print(f'P-value = {nonsc_pvalue} which is <= {mwu_significance_lvl}. \\nRejecting H0, supporting Ha. \\nExperienced students have a bigger size of GRE score on average than Inexperienced students.')"
   ]
  },
  {
   "cell_type": "markdown",
   "metadata": {},
   "source": [
    "**Correlation**"
   ]
  },
  {
   "cell_type": "code",
   "execution_count": 237,
   "metadata": {},
   "outputs": [
    {
     "name": "stdout",
     "output_type": "stream",
     "text": [
      "P-value = 4.714531292500165e-05 which is <= 0.05. \n",
      "Rejecting H0, supporting Ha. Data are not normally distributed.\n"
     ]
    }
   ],
   "source": [
    "# 1. Calculate the correlation between TOEFL scores and GRE scores.\n",
    "# 2. Comment on what the calculated correlation means. \n",
    "# Is this correlation high, positive/negative?\n",
    "\n",
    "# Prerequisities:\n",
    "# D'Agostino-Pierson test for normal distribution\n",
    "# H0 = Data are normally distributed.\n",
    "# Ha = Data are not normally distributed.\n",
    "\n",
    "# As we know fro test above (_, pvalue = stats.normaltest(df['TOEFLscore'])), TOEFL score is not normaly distributed.\n",
    "# non-divided GRE Score:\n",
    "nt_significance_lvl = 0.05\n",
    "_, pvalue = stats.normaltest(df['GREscore'])\n",
    "\n",
    "if pvalue > nt_significance_lvl:\n",
    "  print(f'P-value = {pvalue} which is > {nt_significance_lvl}. \\nSupporting H0. Data are normally distributed.')\n",
    "else:\n",
    "  print(f'P-value = {pvalue} which is <= {nt_significance_lvl}. \\nRejecting H0, supporting Ha. Data are not normally distributed.')"
   ]
  },
  {
   "cell_type": "code",
   "execution_count": 238,
   "metadata": {},
   "outputs": [
    {
     "data": {
      "text/plain": [
       "<Axes: xlabel='TOEFLscore', ylabel='GREscore'>"
      ]
     },
     "execution_count": 238,
     "metadata": {},
     "output_type": "execute_result"
    },
    {
     "data": {
      "image/png": "[encoded data removed]",
      "text/plain": [
       "<Figure size 640x480 with 1 Axes>"
      ]
     },
     "metadata": {},
     "output_type": "display_data"
    }
   ],
   "source": [
    "# Checking and showing the level of linearity and distant observations\n",
    "sns.regplot(data=df, x='TOEFLscore', y='GREscore')"
   ]
  },
  {
   "cell_type": "code",
   "execution_count": 239,
   "metadata": {},
   "outputs": [
    {
     "name": "stdout",
     "output_type": "stream",
     "text": [
      "The level of correlation \"Statistic\" is: 0.6675090740583592. \n",
      "I.e. it is a strong positive correlation.\n",
      "The higher GRE score, the higher TOEFL score.\n",
      "P-value = 0.00000000000000000000000000000000000000000000000000000000000000000000000000000000007309119198787445 which is <= 0.05. \n",
      "Rejecting H0, supporting Ha. GRE score and TOEFL score are statistically dependent.\n"
     ]
    }
   ],
   "source": [
    "# Correlation coefficient and testing\n",
    "# two samples, non-normal distribution, correlation testing = Kendall Tau or Spearman coefficient test\n",
    "\n",
    "# H0 = GRE score and TOEFL score are not statistically dependent.\n",
    "# Ha = GRE score and TOEFL score are statistically dependent.\n",
    "\n",
    "statistic, pvalue = stats.kendalltau(df['TOEFLscore'], df['GREscore'])\n",
    "nonsc_pvalue = np.format_float_positional(pvalue)\n",
    "\n",
    "print(f'The level of correlation \"Statistic\" is: {statistic}. \\nI.e. it is a strong positive correlation.\\nThe higher GRE score, the higher TOEFL score.')\n",
    "\n",
    "kt_significance_lvl = 0.05\n",
    "\n",
    "if pvalue > kt_significance_lvl:\n",
    "  print(f'P-value = {nonsc_pvalue} which is > {kt_significance_lvl}. \\nSupporting H0.GRE score and TOEFL score are not statistically dependent.')\n",
    "else:\n",
    "  print(f'P-value = {nonsc_pvalue} which is <= {kt_significance_lvl}. \\nRejecting H0, supporting Ha. GRE score and TOEFL score are statistically dependent.')\n"
   ]
  },
  {
   "cell_type": "code",
   "execution_count": 240,
   "metadata": {},
   "outputs": [
    {
     "data": {
      "text/plain": [
       "[Text(0.5, 1.0, 'Chance of Admit and CGPA correlation'),\n",
       " Text(0, 0.5, 'Chance Of Admit')]"
      ]
     },
     "execution_count": 240,
     "metadata": {},
     "output_type": "execute_result"
    },
    {
     "data": {
      "image/png": "[encoded data removed]",
      "text/plain": [
       "<Figure size 640x480 with 1 Axes>"
      ]
     },
     "metadata": {},
     "output_type": "display_data"
    }
   ],
   "source": [
    "# 3. Create a correlation plot (sns.regplot) for the explained variance Chance of Admit \n",
    "# and the variable that is most highly correlated with it. \n",
    "\n",
    "correlation = df.corr()\n",
    "\n",
    "max_corr_column = correlation['ChanceOfAdmit'].drop('ChanceOfAdmit').idxmax()\n",
    "corplot = sns.regplot(data=df, y='ChanceOfAdmit', x=max_corr_column, scatter_kws={\"s\":4, \"color\": \"green\"}, line_kws={\"color\": \"orange\"})\n",
    "corplot.set(title=f'Chance of Admit and {max_corr_column} correlation', ylabel='Chance Of Admit')\n"
   ]
  },
  {
   "cell_type": "markdown",
   "metadata": {},
   "source": [
    "**Explanatory variable**"
   ]
  },
  {
   "cell_type": "code",
   "execution_count": 241,
   "metadata": {},
   "outputs": [
    {
     "data": {
      "text/plain": [
       "<Axes: xlabel='ChanceOfAdmit'>"
      ]
     },
     "execution_count": 241,
     "metadata": {},
     "output_type": "execute_result"
    },
    {
     "data": {
      "image/png": "[encoded data removed]",
      "text/plain": [
       "<Figure size 640x480 with 1 Axes>"
      ]
     },
     "metadata": {},
     "output_type": "display_data"
    }
   ],
   "source": [
    "# 1. The Chance of Admit will be the next variable to be explained. \n",
    "# Create a boxplot for this graduate so that it is possible \n",
    "# to visually identify the outlying values, if any.\n",
    "\n",
    "sns.boxplot(data=df, x='ChanceOfAdmit')"
   ]
  },
  {
   "cell_type": "code",
   "execution_count": 242,
   "metadata": {},
   "outputs": [
    {
     "data": {
      "text/plain": [
       "0.3550000000000001"
      ]
     },
     "execution_count": 242,
     "metadata": {},
     "output_type": "execute_result"
    }
   ],
   "source": [
    "# identifying outliers\n",
    "q1 = np.quantile(df['ChanceOfAdmit'], 0.25)\n",
    "q3 = np.quantile(df['ChanceOfAdmit'], 0.75)\n",
    "iqr = q3 - q1\n",
    "lowerWhisker = q1 - 1.5 * iqr\n",
    "lowerWhisker"
   ]
  },
  {
   "cell_type": "code",
   "execution_count": 243,
   "metadata": {},
   "outputs": [
    {
     "data": {
      "text/plain": [
       "<Axes: xlabel='ChanceOfAdmit'>"
      ]
     },
     "execution_count": 243,
     "metadata": {},
     "output_type": "execute_result"
    },
    {
     "data": {
      "image/png": "[encoded data removed]",
      "text/plain": [
       "<Figure size 640x480 with 1 Axes>"
      ]
     },
     "metadata": {},
     "output_type": "display_data"
    }
   ],
   "source": [
    "# 2. Eliminate outlying observations based on the criteria found in the boxplot.\n",
    "\n",
    "df = df[df['ChanceOfAdmit'] > lowerWhisker]\n",
    "\n",
    "sns.boxplot(data=df, x='ChanceOfAdmit')"
   ]
  },
  {
   "cell_type": "markdown",
   "metadata": {},
   "source": [
    "**Linear regression**"
   ]
  },
  {
   "cell_type": "code",
   "execution_count": 244,
   "metadata": {},
   "outputs": [
    {
     "data": {
      "text/html": [
       "<table class=\"simpletable\">\n",
       "<caption>OLS Regression Results</caption>\n",
       "<tr>\n",
       "  <th>Dep. Variable:</th>      <td>ChanceOfAdmit</td>  <th>  R-squared:         </th> <td>   0.805</td> \n",
       "</tr>\n",
       "<tr>\n",
       "  <th>Model:</th>                   <td>OLS</td>       <th>  Adj. R-squared:    </th> <td>   0.801</td> \n",
       "</tr>\n",
       "<tr>\n",
       "  <th>Method:</th>             <td>Least Squares</td>  <th>  F-statistic:       </th> <td>   229.9</td> \n",
       "</tr>\n",
       "<tr>\n",
       "  <th>Date:</th>             <td>Sat, 11 May 2024</td> <th>  Prob (F-statistic):</th> <td>3.78e-134</td>\n",
       "</tr>\n",
       "<tr>\n",
       "  <th>Time:</th>                 <td>16:21:36</td>     <th>  Log-Likelihood:    </th> <td>  542.56</td> \n",
       "</tr>\n",
       "<tr>\n",
       "  <th>No. Observations:</th>      <td>   398</td>      <th>  AIC:               </th> <td>  -1069.</td> \n",
       "</tr>\n",
       "<tr>\n",
       "  <th>Df Residuals:</th>          <td>   390</td>      <th>  BIC:               </th> <td>  -1037.</td> \n",
       "</tr>\n",
       "<tr>\n",
       "  <th>Df Model:</th>              <td>     7</td>      <th>                     </th>     <td> </td>    \n",
       "</tr>\n",
       "<tr>\n",
       "  <th>Covariance Type:</th>      <td>nonrobust</td>    <th>                     </th>     <td> </td>    \n",
       "</tr>\n",
       "</table>\n",
       "<table class=\"simpletable\">\n",
       "<tr>\n",
       "          <td></td>            <th>coef</th>     <th>std err</th>      <th>t</th>      <th>P>|t|</th>  <th>[0.025</th>    <th>0.975]</th>  \n",
       "</tr>\n",
       "<tr>\n",
       "  <th>Intercept</th>        <td>   -1.2107</td> <td>    0.123</td> <td>   -9.855</td> <td> 0.000</td> <td>   -1.452</td> <td>   -0.969</td>\n",
       "</tr>\n",
       "<tr>\n",
       "  <th>GREscore</th>         <td>    0.0017</td> <td>    0.001</td> <td>    2.843</td> <td> 0.005</td> <td>    0.001</td> <td>    0.003</td>\n",
       "</tr>\n",
       "<tr>\n",
       "  <th>TOEFLscore</th>       <td>    0.0026</td> <td>    0.001</td> <td>    2.467</td> <td> 0.014</td> <td>    0.001</td> <td>    0.005</td>\n",
       "</tr>\n",
       "<tr>\n",
       "  <th>UniversityRating</th> <td>    0.0054</td> <td>    0.005</td> <td>    1.147</td> <td> 0.252</td> <td>   -0.004</td> <td>    0.015</td>\n",
       "</tr>\n",
       "<tr>\n",
       "  <th>SOP</th>              <td>   -0.0003</td> <td>    0.005</td> <td>   -0.063</td> <td> 0.950</td> <td>   -0.011</td> <td>    0.010</td>\n",
       "</tr>\n",
       "<tr>\n",
       "  <th>LOR</th>              <td>    0.0210</td> <td>    0.005</td> <td>    3.861</td> <td> 0.000</td> <td>    0.010</td> <td>    0.032</td>\n",
       "</tr>\n",
       "<tr>\n",
       "  <th>CGPA</th>             <td>    0.1190</td> <td>    0.012</td> <td>    9.920</td> <td> 0.000</td> <td>    0.095</td> <td>    0.143</td>\n",
       "</tr>\n",
       "<tr>\n",
       "  <th>Research</th>         <td>    0.0237</td> <td>    0.008</td> <td>    3.040</td> <td> 0.003</td> <td>    0.008</td> <td>    0.039</td>\n",
       "</tr>\n",
       "</table>\n",
       "<table class=\"simpletable\">\n",
       "<tr>\n",
       "  <th>Omnibus:</th>       <td>88.327</td> <th>  Durbin-Watson:     </th> <td>   0.774</td>\n",
       "</tr>\n",
       "<tr>\n",
       "  <th>Prob(Omnibus):</th> <td> 0.000</td> <th>  Jarque-Bera (JB):  </th> <td> 184.308</td>\n",
       "</tr>\n",
       "<tr>\n",
       "  <th>Skew:</th>          <td>-1.164</td> <th>  Prob(JB):          </th> <td>9.50e-41</td>\n",
       "</tr>\n",
       "<tr>\n",
       "  <th>Kurtosis:</th>      <td> 5.386</td> <th>  Cond. No.          </th> <td>1.31e+04</td>\n",
       "</tr>\n",
       "</table><br/><br/>Notes:<br/>[1] Standard Errors assume that the covariance matrix of the errors is correctly specified.<br/>[2] The condition number is large, 1.31e+04. This might indicate that there are<br/>strong multicollinearity or other numerical problems."
      ],
      "text/latex": [
       "\\begin{center}\n",
       "\\begin{tabular}{lclc}\n",
       "\\toprule\n",
       "\\textbf{Dep. Variable:}    &  ChanceOfAdmit   & \\textbf{  R-squared:         } &     0.805   \\\\\n",
       "\\textbf{Model:}            &       OLS        & \\textbf{  Adj. R-squared:    } &     0.801   \\\\\n",
       "\\textbf{Method:}           &  Least Squares   & \\textbf{  F-statistic:       } &     229.9   \\\\\n",
       "\\textbf{Date:}             & Sat, 11 May 2024 & \\textbf{  Prob (F-statistic):} & 3.78e-134   \\\\\n",
       "\\textbf{Time:}             &     16:21:36     & \\textbf{  Log-Likelihood:    } &    542.56   \\\\\n",
       "\\textbf{No. Observations:} &         398      & \\textbf{  AIC:               } &    -1069.   \\\\\n",
       "\\textbf{Df Residuals:}     &         390      & \\textbf{  BIC:               } &    -1037.   \\\\\n",
       "\\textbf{Df Model:}         &           7      & \\textbf{                     } &             \\\\\n",
       "\\textbf{Covariance Type:}  &    nonrobust     & \\textbf{                     } &             \\\\\n",
       "\\bottomrule\n",
       "\\end{tabular}\n",
       "\\begin{tabular}{lcccccc}\n",
       "                          & \\textbf{coef} & \\textbf{std err} & \\textbf{t} & \\textbf{P$> |$t$|$} & \\textbf{[0.025} & \\textbf{0.975]}  \\\\\n",
       "\\midrule\n",
       "\\textbf{Intercept}        &      -1.2107  &        0.123     &    -9.855  &         0.000        &       -1.452    &       -0.969     \\\\\n",
       "\\textbf{GREscore}         &       0.0017  &        0.001     &     2.843  &         0.005        &        0.001    &        0.003     \\\\\n",
       "\\textbf{TOEFLscore}       &       0.0026  &        0.001     &     2.467  &         0.014        &        0.001    &        0.005     \\\\\n",
       "\\textbf{UniversityRating} &       0.0054  &        0.005     &     1.147  &         0.252        &       -0.004    &        0.015     \\\\\n",
       "\\textbf{SOP}              &      -0.0003  &        0.005     &    -0.063  &         0.950        &       -0.011    &        0.010     \\\\\n",
       "\\textbf{LOR}              &       0.0210  &        0.005     &     3.861  &         0.000        &        0.010    &        0.032     \\\\\n",
       "\\textbf{CGPA}             &       0.1190  &        0.012     &     9.920  &         0.000        &        0.095    &        0.143     \\\\\n",
       "\\textbf{Research}         &       0.0237  &        0.008     &     3.040  &         0.003        &        0.008    &        0.039     \\\\\n",
       "\\bottomrule\n",
       "\\end{tabular}\n",
       "\\begin{tabular}{lclc}\n",
       "\\textbf{Omnibus:}       & 88.327 & \\textbf{  Durbin-Watson:     } &    0.774  \\\\\n",
       "\\textbf{Prob(Omnibus):} &  0.000 & \\textbf{  Jarque-Bera (JB):  } &  184.308  \\\\\n",
       "\\textbf{Skew:}          & -1.164 & \\textbf{  Prob(JB):          } & 9.50e-41  \\\\\n",
       "\\textbf{Kurtosis:}      &  5.386 & \\textbf{  Cond. No.          } & 1.31e+04  \\\\\n",
       "\\bottomrule\n",
       "\\end{tabular}\n",
       "%\\caption{OLS Regression Results}\n",
       "\\end{center}\n",
       "\n",
       "Notes: \\newline\n",
       " [1] Standard Errors assume that the covariance matrix of the errors is correctly specified. \\newline\n",
       " [2] The condition number is large, 1.31e+04. This might indicate that there are \\newline\n",
       " strong multicollinearity or other numerical problems."
      ],
      "text/plain": [
       "<class 'statsmodels.iolib.summary.Summary'>\n",
       "\"\"\"\n",
       "                            OLS Regression Results                            \n",
       "==============================================================================\n",
       "Dep. Variable:          ChanceOfAdmit   R-squared:                       0.805\n",
       "Model:                            OLS   Adj. R-squared:                  0.801\n",
       "Method:                 Least Squares   F-statistic:                     229.9\n",
       "Date:                Sat, 11 May 2024   Prob (F-statistic):          3.78e-134\n",
       "Time:                        16:21:36   Log-Likelihood:                 542.56\n",
       "No. Observations:                 398   AIC:                            -1069.\n",
       "Df Residuals:                     390   BIC:                            -1037.\n",
       "Df Model:                           7                                         \n",
       "Covariance Type:            nonrobust                                         \n",
       "====================================================================================\n",
       "                       coef    std err          t      P>|t|      [0.025      0.975]\n",
       "------------------------------------------------------------------------------------\n",
       "Intercept           -1.2107      0.123     -9.855      0.000      -1.452      -0.969\n",
       "GREscore             0.0017      0.001      2.843      0.005       0.001       0.003\n",
       "TOEFLscore           0.0026      0.001      2.467      0.014       0.001       0.005\n",
       "UniversityRating     0.0054      0.005      1.147      0.252      -0.004       0.015\n",
       "SOP                 -0.0003      0.005     -0.063      0.950      -0.011       0.010\n",
       "LOR                  0.0210      0.005      3.861      0.000       0.010       0.032\n",
       "CGPA                 0.1190      0.012      9.920      0.000       0.095       0.143\n",
       "Research             0.0237      0.008      3.040      0.003       0.008       0.039\n",
       "==============================================================================\n",
       "Omnibus:                       88.327   Durbin-Watson:                   0.774\n",
       "Prob(Omnibus):                  0.000   Jarque-Bera (JB):              184.308\n",
       "Skew:                          -1.164   Prob(JB):                     9.50e-41\n",
       "Kurtosis:                       5.386   Cond. No.                     1.31e+04\n",
       "==============================================================================\n",
       "\n",
       "Notes:\n",
       "[1] Standard Errors assume that the covariance matrix of the errors is correctly specified.\n",
       "[2] The condition number is large, 1.31e+04. This might indicate that there are\n",
       "strong multicollinearity or other numerical problems.\n",
       "\"\"\""
      ]
     },
     "execution_count": 244,
     "metadata": {},
     "output_type": "execute_result"
    }
   ],
   "source": [
    "# 1. Write an equation for linear regression. Include all variables in the equation, \n",
    "# that make sense. Note that you may need to rename the column names.\n",
    "# 2. Estimate the parameters of the linear regression model.\n",
    "\n",
    "formula = \"ChanceOfAdmit ~ GREscore + TOEFLscore + UniversityRating + SOP + LOR + CGPA + Research\"\n",
    "mod = smf.ols(formula=formula, data=df)\n",
    "res = mod.fit()\n",
    "res.summary()"
   ]
  },
  {
   "cell_type": "code",
   "execution_count": 245,
   "metadata": {},
   "outputs": [],
   "source": [
    "# 3. Interpret the coefficients of the model. \n",
    "# Which coefficients are statistically significant? \n",
    "# Discuss which variables have the largest effect on the chances of adoption and why.\n",
    "\n",
    "# Statistically significant are those coefficients with p>|t| < 0.05 as a level of significanse. \n",
    "# The non-significant variables are \"SOP\" and \"University rating\", they should be removed.\n",
    "# The largest effect on Adoption chances has Intercept (negative), CGPA (positive), \n",
    "# Research (positive), because its coefficients have the largest absolute values.\n",
    "\n",
    "\n",
    "# 4. Evaluate the fit quality of your linear regression model \n",
    "# using the coefficient of determination R2.\n",
    "\n",
    "# Value of 0,835 is high, The Regression model explains 80,5 % of \n",
    "# the variability Chance of Admit variable."
   ]
  },
  {
   "cell_type": "markdown",
   "metadata": {},
   "source": [
    "**Bonus: Cook's Distance**"
   ]
  },
  {
   "cell_type": "code",
   "execution_count": 246,
   "metadata": {},
   "outputs": [
    {
     "data": {
      "text/html": [
       "<div>\n",
       "<style scoped>\n",
       "    .dataframe tbody tr th:only-of-type {\n",
       "        vertical-align: middle;\n",
       "    }\n",
       "\n",
       "    .dataframe tbody tr th {\n",
       "        vertical-align: top;\n",
       "    }\n",
       "\n",
       "    .dataframe thead th {\n",
       "        text-align: right;\n",
       "    }\n",
       "</style>\n",
       "<table border=\"1\" class=\"dataframe\">\n",
       "  <thead>\n",
       "    <tr style=\"text-align: right;\">\n",
       "      <th></th>\n",
       "      <th>SerialNo</th>\n",
       "      <th>GREscore</th>\n",
       "      <th>TOEFLscore</th>\n",
       "      <th>UniversityRating</th>\n",
       "      <th>SOP</th>\n",
       "      <th>LOR</th>\n",
       "      <th>CGPA</th>\n",
       "      <th>Research</th>\n",
       "      <th>ChanceOfAdmit</th>\n",
       "      <th>CooksDistance</th>\n",
       "    </tr>\n",
       "  </thead>\n",
       "  <tbody>\n",
       "    <tr>\n",
       "      <th>0</th>\n",
       "      <td>1</td>\n",
       "      <td>337</td>\n",
       "      <td>118</td>\n",
       "      <td>4</td>\n",
       "      <td>4.5</td>\n",
       "      <td>4.5</td>\n",
       "      <td>9.65</td>\n",
       "      <td>1</td>\n",
       "      <td>0.92</td>\n",
       "      <td>0.000532</td>\n",
       "    </tr>\n",
       "    <tr>\n",
       "      <th>1</th>\n",
       "      <td>2</td>\n",
       "      <td>324</td>\n",
       "      <td>107</td>\n",
       "      <td>4</td>\n",
       "      <td>4.0</td>\n",
       "      <td>4.5</td>\n",
       "      <td>8.87</td>\n",
       "      <td>1</td>\n",
       "      <td>0.76</td>\n",
       "      <td>0.000951</td>\n",
       "    </tr>\n",
       "    <tr>\n",
       "      <th>2</th>\n",
       "      <td>3</td>\n",
       "      <td>316</td>\n",
       "      <td>104</td>\n",
       "      <td>3</td>\n",
       "      <td>3.0</td>\n",
       "      <td>3.5</td>\n",
       "      <td>8.00</td>\n",
       "      <td>1</td>\n",
       "      <td>0.72</td>\n",
       "      <td>0.003215</td>\n",
       "    </tr>\n",
       "    <tr>\n",
       "      <th>3</th>\n",
       "      <td>4</td>\n",
       "      <td>322</td>\n",
       "      <td>110</td>\n",
       "      <td>3</td>\n",
       "      <td>3.5</td>\n",
       "      <td>2.5</td>\n",
       "      <td>8.67</td>\n",
       "      <td>1</td>\n",
       "      <td>0.80</td>\n",
       "      <td>0.001966</td>\n",
       "    </tr>\n",
       "    <tr>\n",
       "      <th>4</th>\n",
       "      <td>5</td>\n",
       "      <td>314</td>\n",
       "      <td>103</td>\n",
       "      <td>2</td>\n",
       "      <td>2.0</td>\n",
       "      <td>3.0</td>\n",
       "      <td>8.21</td>\n",
       "      <td>0</td>\n",
       "      <td>0.65</td>\n",
       "      <td>0.000065</td>\n",
       "    </tr>\n",
       "  </tbody>\n",
       "</table>\n",
       "</div>"
      ],
      "text/plain": [
       "   SerialNo  GREscore  TOEFLscore  UniversityRating  SOP  LOR  CGPA  Research  \\\n",
       "0         1       337         118                 4  4.5  4.5  9.65         1   \n",
       "1         2       324         107                 4  4.0  4.5  8.87         1   \n",
       "2         3       316         104                 3  3.0  3.5  8.00         1   \n",
       "3         4       322         110                 3  3.5  2.5  8.67         1   \n",
       "4         5       314         103                 2  2.0  3.0  8.21         0   \n",
       "\n",
       "   ChanceOfAdmit  CooksDistance  \n",
       "0           0.92       0.000532  \n",
       "1           0.76       0.000951  \n",
       "2           0.72       0.003215  \n",
       "3           0.80       0.001966  \n",
       "4           0.65       0.000065  "
      ]
     },
     "execution_count": 246,
     "metadata": {},
     "output_type": "execute_result"
    }
   ],
   "source": [
    "# 1. Calculate Cook's distance for each point.\n",
    "\n",
    "formula = \"ChanceOfAdmit ~ GREscore + TOEFLscore + LOR + CGPA + Research\"\n",
    "mod = smf.ols(formula=formula, data=df)\n",
    "res = mod.fit()\n",
    "influence = OLSInfluence(res)\n",
    "df['CooksDistance'] = influence.cooks_distance[0]\n",
    "df.head()"
   ]
  },
  {
   "cell_type": "code",
   "execution_count": 247,
   "metadata": {},
   "outputs": [
    {
     "data": {
      "text/plain": [
       "<Axes: xlabel='CooksDistance', ylabel='Count'>"
      ]
     },
     "execution_count": 247,
     "metadata": {},
     "output_type": "execute_result"
    },
    {
     "data": {
      "image/png": "[encoded data removed]",
      "text/plain": [
       "<Figure size 640x480 with 1 Axes>"
      ]
     },
     "metadata": {},
     "output_type": "display_data"
    }
   ],
   "source": [
    "# 2. Create a histogram for Cook's distance. \n",
    "# Should be some points removed, because they would affect our linear regression too much?\n",
    "\n",
    "sns.histplot(data=df, x='CooksDistance')"
   ]
  },
  {
   "cell_type": "code",
   "execution_count": 248,
   "metadata": {},
   "outputs": [],
   "source": [
    "# removing outliers\n",
    "df = df[df['CooksDistance'] < 0.02]"
   ]
  },
  {
   "cell_type": "code",
   "execution_count": 249,
   "metadata": {},
   "outputs": [
    {
     "data": {
      "text/plain": [
       "<Axes: xlabel='CooksDistance', ylabel='Count'>"
      ]
     },
     "execution_count": 249,
     "metadata": {},
     "output_type": "execute_result"
    },
    {
     "data": {
      "image/png": "[encoded data removed]",
      "text/plain": [
       "<Figure size 640x480 with 1 Axes>"
      ]
     },
     "metadata": {},
     "output_type": "display_data"
    }
   ],
   "source": [
    "sns.histplot(data=df, x='CooksDistance')"
   ]
  },
  {
   "cell_type": "code",
   "execution_count": 250,
   "metadata": {},
   "outputs": [
    {
     "data": {
      "text/html": [
       "<table class=\"simpletable\">\n",
       "<caption>OLS Regression Results</caption>\n",
       "<tr>\n",
       "  <th>Dep. Variable:</th>      <td>ChanceOfAdmit</td>  <th>  R-squared:         </th> <td>   0.850</td> \n",
       "</tr>\n",
       "<tr>\n",
       "  <th>Model:</th>                   <td>OLS</td>       <th>  Adj. R-squared:    </th> <td>   0.848</td> \n",
       "</tr>\n",
       "<tr>\n",
       "  <th>Method:</th>             <td>Least Squares</td>  <th>  F-statistic:       </th> <td>   432.8</td> \n",
       "</tr>\n",
       "<tr>\n",
       "  <th>Date:</th>             <td>Sat, 11 May 2024</td> <th>  Prob (F-statistic):</th> <td>1.19e-154</td>\n",
       "</tr>\n",
       "<tr>\n",
       "  <th>Time:</th>                 <td>16:21:37</td>     <th>  Log-Likelihood:    </th> <td>  587.26</td> \n",
       "</tr>\n",
       "<tr>\n",
       "  <th>No. Observations:</th>      <td>   387</td>      <th>  AIC:               </th> <td>  -1163.</td> \n",
       "</tr>\n",
       "<tr>\n",
       "  <th>Df Residuals:</th>          <td>   381</td>      <th>  BIC:               </th> <td>  -1139.</td> \n",
       "</tr>\n",
       "<tr>\n",
       "  <th>Df Model:</th>              <td>     5</td>      <th>                     </th>     <td> </td>    \n",
       "</tr>\n",
       "<tr>\n",
       "  <th>Covariance Type:</th>      <td>nonrobust</td>    <th>                     </th>     <td> </td>    \n",
       "</tr>\n",
       "</table>\n",
       "<table class=\"simpletable\">\n",
       "<tr>\n",
       "       <td></td>         <th>coef</th>     <th>std err</th>      <th>t</th>      <th>P>|t|</th>  <th>[0.025</th>    <th>0.975]</th>  \n",
       "</tr>\n",
       "<tr>\n",
       "  <th>Intercept</th>  <td>   -1.3698</td> <td>    0.101</td> <td>  -13.500</td> <td> 0.000</td> <td>   -1.569</td> <td>   -1.170</td>\n",
       "</tr>\n",
       "<tr>\n",
       "  <th>GREscore</th>   <td>    0.0021</td> <td>    0.001</td> <td>    4.129</td> <td> 0.000</td> <td>    0.001</td> <td>    0.003</td>\n",
       "</tr>\n",
       "<tr>\n",
       "  <th>TOEFLscore</th> <td>    0.0033</td> <td>    0.001</td> <td>    3.652</td> <td> 0.000</td> <td>    0.002</td> <td>    0.005</td>\n",
       "</tr>\n",
       "<tr>\n",
       "  <th>LOR</th>        <td>    0.0213</td> <td>    0.004</td> <td>    5.156</td> <td> 0.000</td> <td>    0.013</td> <td>    0.029</td>\n",
       "</tr>\n",
       "<tr>\n",
       "  <th>CGPA</th>       <td>    0.1152</td> <td>    0.010</td> <td>   11.438</td> <td> 0.000</td> <td>    0.095</td> <td>    0.135</td>\n",
       "</tr>\n",
       "<tr>\n",
       "  <th>Research</th>   <td>    0.0178</td> <td>    0.007</td> <td>    2.600</td> <td> 0.010</td> <td>    0.004</td> <td>    0.031</td>\n",
       "</tr>\n",
       "</table>\n",
       "<table class=\"simpletable\">\n",
       "<tr>\n",
       "  <th>Omnibus:</th>       <td>43.843</td> <th>  Durbin-Watson:     </th> <td>   0.957</td>\n",
       "</tr>\n",
       "<tr>\n",
       "  <th>Prob(Omnibus):</th> <td> 0.000</td> <th>  Jarque-Bera (JB):  </th> <td>  61.335</td>\n",
       "</tr>\n",
       "<tr>\n",
       "  <th>Skew:</th>          <td>-0.781</td> <th>  Prob(JB):          </th> <td>4.80e-14</td>\n",
       "</tr>\n",
       "<tr>\n",
       "  <th>Kurtosis:</th>      <td> 4.168</td> <th>  Cond. No.          </th> <td>1.25e+04</td>\n",
       "</tr>\n",
       "</table><br/><br/>Notes:<br/>[1] Standard Errors assume that the covariance matrix of the errors is correctly specified.<br/>[2] The condition number is large, 1.25e+04. This might indicate that there are<br/>strong multicollinearity or other numerical problems."
      ],
      "text/latex": [
       "\\begin{center}\n",
       "\\begin{tabular}{lclc}\n",
       "\\toprule\n",
       "\\textbf{Dep. Variable:}    &  ChanceOfAdmit   & \\textbf{  R-squared:         } &     0.850   \\\\\n",
       "\\textbf{Model:}            &       OLS        & \\textbf{  Adj. R-squared:    } &     0.848   \\\\\n",
       "\\textbf{Method:}           &  Least Squares   & \\textbf{  F-statistic:       } &     432.8   \\\\\n",
       "\\textbf{Date:}             & Sat, 11 May 2024 & \\textbf{  Prob (F-statistic):} & 1.19e-154   \\\\\n",
       "\\textbf{Time:}             &     16:21:37     & \\textbf{  Log-Likelihood:    } &    587.26   \\\\\n",
       "\\textbf{No. Observations:} &         387      & \\textbf{  AIC:               } &    -1163.   \\\\\n",
       "\\textbf{Df Residuals:}     &         381      & \\textbf{  BIC:               } &    -1139.   \\\\\n",
       "\\textbf{Df Model:}         &           5      & \\textbf{                     } &             \\\\\n",
       "\\textbf{Covariance Type:}  &    nonrobust     & \\textbf{                     } &             \\\\\n",
       "\\bottomrule\n",
       "\\end{tabular}\n",
       "\\begin{tabular}{lcccccc}\n",
       "                    & \\textbf{coef} & \\textbf{std err} & \\textbf{t} & \\textbf{P$> |$t$|$} & \\textbf{[0.025} & \\textbf{0.975]}  \\\\\n",
       "\\midrule\n",
       "\\textbf{Intercept}  &      -1.3698  &        0.101     &   -13.500  &         0.000        &       -1.569    &       -1.170     \\\\\n",
       "\\textbf{GREscore}   &       0.0021  &        0.001     &     4.129  &         0.000        &        0.001    &        0.003     \\\\\n",
       "\\textbf{TOEFLscore} &       0.0033  &        0.001     &     3.652  &         0.000        &        0.002    &        0.005     \\\\\n",
       "\\textbf{LOR}        &       0.0213  &        0.004     &     5.156  &         0.000        &        0.013    &        0.029     \\\\\n",
       "\\textbf{CGPA}       &       0.1152  &        0.010     &    11.438  &         0.000        &        0.095    &        0.135     \\\\\n",
       "\\textbf{Research}   &       0.0178  &        0.007     &     2.600  &         0.010        &        0.004    &        0.031     \\\\\n",
       "\\bottomrule\n",
       "\\end{tabular}\n",
       "\\begin{tabular}{lclc}\n",
       "\\textbf{Omnibus:}       & 43.843 & \\textbf{  Durbin-Watson:     } &    0.957  \\\\\n",
       "\\textbf{Prob(Omnibus):} &  0.000 & \\textbf{  Jarque-Bera (JB):  } &   61.335  \\\\\n",
       "\\textbf{Skew:}          & -0.781 & \\textbf{  Prob(JB):          } & 4.80e-14  \\\\\n",
       "\\textbf{Kurtosis:}      &  4.168 & \\textbf{  Cond. No.          } & 1.25e+04  \\\\\n",
       "\\bottomrule\n",
       "\\end{tabular}\n",
       "%\\caption{OLS Regression Results}\n",
       "\\end{center}\n",
       "\n",
       "Notes: \\newline\n",
       " [1] Standard Errors assume that the covariance matrix of the errors is correctly specified. \\newline\n",
       " [2] The condition number is large, 1.25e+04. This might indicate that there are \\newline\n",
       " strong multicollinearity or other numerical problems."
      ],
      "text/plain": [
       "<class 'statsmodels.iolib.summary.Summary'>\n",
       "\"\"\"\n",
       "                            OLS Regression Results                            \n",
       "==============================================================================\n",
       "Dep. Variable:          ChanceOfAdmit   R-squared:                       0.850\n",
       "Model:                            OLS   Adj. R-squared:                  0.848\n",
       "Method:                 Least Squares   F-statistic:                     432.8\n",
       "Date:                Sat, 11 May 2024   Prob (F-statistic):          1.19e-154\n",
       "Time:                        16:21:37   Log-Likelihood:                 587.26\n",
       "No. Observations:                 387   AIC:                            -1163.\n",
       "Df Residuals:                     381   BIC:                            -1139.\n",
       "Df Model:                           5                                         \n",
       "Covariance Type:            nonrobust                                         \n",
       "==============================================================================\n",
       "                 coef    std err          t      P>|t|      [0.025      0.975]\n",
       "------------------------------------------------------------------------------\n",
       "Intercept     -1.3698      0.101    -13.500      0.000      -1.569      -1.170\n",
       "GREscore       0.0021      0.001      4.129      0.000       0.001       0.003\n",
       "TOEFLscore     0.0033      0.001      3.652      0.000       0.002       0.005\n",
       "LOR            0.0213      0.004      5.156      0.000       0.013       0.029\n",
       "CGPA           0.1152      0.010     11.438      0.000       0.095       0.135\n",
       "Research       0.0178      0.007      2.600      0.010       0.004       0.031\n",
       "==============================================================================\n",
       "Omnibus:                       43.843   Durbin-Watson:                   0.957\n",
       "Prob(Omnibus):                  0.000   Jarque-Bera (JB):               61.335\n",
       "Skew:                          -0.781   Prob(JB):                     4.80e-14\n",
       "Kurtosis:                       4.168   Cond. No.                     1.25e+04\n",
       "==============================================================================\n",
       "\n",
       "Notes:\n",
       "[1] Standard Errors assume that the covariance matrix of the errors is correctly specified.\n",
       "[2] The condition number is large, 1.25e+04. This might indicate that there are\n",
       "strong multicollinearity or other numerical problems.\n",
       "\"\"\""
      ]
     },
     "execution_count": 250,
     "metadata": {},
     "output_type": "execute_result"
    }
   ],
   "source": [
    "formula = \"ChanceOfAdmit ~ GREscore + TOEFLscore + LOR + CGPA + Research\"\n",
    "mod = smf.ols(formula=formula, data=df)\n",
    "res = mod.fit()\n",
    "res.summary()\n",
    "\n",
    "# After removing rows with Cooks distance > 0.02 is R-squared higher.\n"
   ]
  }
 ],
 "metadata": {
  "kernelspec": {
   "display_name": "Python 3",
   "language": "python",
   "name": "python3"
  },
  "language_info": {
   "codemirror_mode": {
    "name": "ipython",
    "version": 3
   },
   "file_extension": ".py",
   "mimetype": "text/x-python",
   "name": "python",
   "nbconvert_exporter": "python",
   "pygments_lexer": "ipython3",
   "version": "3.12.3"
  }
 },
 "nbformat": 4,
 "nbformat_minor": 2
}
