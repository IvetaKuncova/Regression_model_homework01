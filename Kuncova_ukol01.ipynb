{
 "cells": [
  {
   "cell_type": "code",
   "execution_count": 1,
   "metadata": {},
   "outputs": [
    {
     "data": {
      "text/html": [
       "<div>\n",
       "<style scoped>\n",
       "    .dataframe tbody tr th:only-of-type {\n",
       "        vertical-align: middle;\n",
       "    }\n",
       "\n",
       "    .dataframe tbody tr th {\n",
       "        vertical-align: top;\n",
       "    }\n",
       "\n",
       "    .dataframe thead th {\n",
       "        text-align: right;\n",
       "    }\n",
       "</style>\n",
       "<table border=\"1\" class=\"dataframe\">\n",
       "  <thead>\n",
       "    <tr style=\"text-align: right;\">\n",
       "      <th></th>\n",
       "      <th>Serial No.</th>\n",
       "      <th>GRE Score</th>\n",
       "      <th>TOEFL Score</th>\n",
       "      <th>University Rating</th>\n",
       "      <th>SOP</th>\n",
       "      <th>LOR</th>\n",
       "      <th>CGPA</th>\n",
       "      <th>Research</th>\n",
       "      <th>Chance of Admit</th>\n",
       "    </tr>\n",
       "  </thead>\n",
       "  <tbody>\n",
       "    <tr>\n",
       "      <th>0</th>\n",
       "      <td>1</td>\n",
       "      <td>337</td>\n",
       "      <td>118</td>\n",
       "      <td>4</td>\n",
       "      <td>4.5</td>\n",
       "      <td>4.5</td>\n",
       "      <td>9.65</td>\n",
       "      <td>1</td>\n",
       "      <td>0.92</td>\n",
       "    </tr>\n",
       "    <tr>\n",
       "      <th>1</th>\n",
       "      <td>2</td>\n",
       "      <td>324</td>\n",
       "      <td>107</td>\n",
       "      <td>4</td>\n",
       "      <td>4.0</td>\n",
       "      <td>4.5</td>\n",
       "      <td>8.87</td>\n",
       "      <td>1</td>\n",
       "      <td>0.76</td>\n",
       "    </tr>\n",
       "    <tr>\n",
       "      <th>2</th>\n",
       "      <td>3</td>\n",
       "      <td>316</td>\n",
       "      <td>104</td>\n",
       "      <td>3</td>\n",
       "      <td>3.0</td>\n",
       "      <td>3.5</td>\n",
       "      <td>8.00</td>\n",
       "      <td>1</td>\n",
       "      <td>0.72</td>\n",
       "    </tr>\n",
       "    <tr>\n",
       "      <th>3</th>\n",
       "      <td>4</td>\n",
       "      <td>322</td>\n",
       "      <td>110</td>\n",
       "      <td>3</td>\n",
       "      <td>3.5</td>\n",
       "      <td>2.5</td>\n",
       "      <td>8.67</td>\n",
       "      <td>1</td>\n",
       "      <td>0.80</td>\n",
       "    </tr>\n",
       "    <tr>\n",
       "      <th>4</th>\n",
       "      <td>5</td>\n",
       "      <td>314</td>\n",
       "      <td>103</td>\n",
       "      <td>2</td>\n",
       "      <td>2.0</td>\n",
       "      <td>3.0</td>\n",
       "      <td>8.21</td>\n",
       "      <td>0</td>\n",
       "      <td>0.65</td>\n",
       "    </tr>\n",
       "  </tbody>\n",
       "</table>\n",
       "</div>"
      ],
      "text/plain": [
       "   Serial No.  GRE Score  TOEFL Score  University Rating  SOP  LOR   CGPA  \\\n",
       "0           1        337          118                  4  4.5   4.5  9.65   \n",
       "1           2        324          107                  4  4.0   4.5  8.87   \n",
       "2           3        316          104                  3  3.0   3.5  8.00   \n",
       "3           4        322          110                  3  3.5   2.5  8.67   \n",
       "4           5        314          103                  2  2.0   3.0  8.21   \n",
       "\n",
       "   Research  Chance of Admit   \n",
       "0         1              0.92  \n",
       "1         1              0.76  \n",
       "2         1              0.72  \n",
       "3         1              0.80  \n",
       "4         0              0.65  "
      ]
     },
     "execution_count": 1,
     "metadata": {},
     "output_type": "execute_result"
    }
   ],
   "source": [
    "import pandas as pd\n",
    "import seaborn as sns\n",
    "from scipy import stats\n",
    "import numpy as np\n",
    "import statsmodels.formula.api as smf\n",
    "from statsmodels.stats.outliers_influence import OLSInfluence\n",
    "\n",
    "# read data from a file\n",
    "df = pd.read_csv('adm_data.csv')\n",
    "# show first 5 rows\n",
    "df.head()\n"
   ]
  },
  {
   "cell_type": "markdown",
   "metadata": {},
   "source": [
    "**Normal distribution for TOEFL score:**"
   ]
  },
  {
   "cell_type": "code",
   "execution_count": 2,
   "metadata": {},
   "outputs": [
    {
     "data": {
      "text/plain": [
       "Index(['SerialNo', 'GREscore', 'TOEFLscore', 'UniversityRating', 'SOP', 'LOR',\n",
       "       'CGPA', 'Research', 'ChanceOfAdmit'],\n",
       "      dtype='object')"
      ]
     },
     "execution_count": 2,
     "metadata": {},
     "output_type": "execute_result"
    }
   ],
   "source": [
    "# rename colums\n",
    "df = df.rename(columns={\"Serial No.\" : \"SerialNo\", \"GRE Score\": \"GREscore\", \"TOEFL Score\" : \"TOEFLscore\", \"University Rating\" : \"UniversityRating\", \"Chance of Admit \" : \"ChanceOfAdmit\", \"LOR \" : \"LOR\"})\n",
    "# show column names\n",
    "df.columns"
   ]
  },
  {
   "cell_type": "code",
   "execution_count": 3,
   "metadata": {},
   "outputs": [
    {
     "name": "stdout",
     "output_type": "stream",
     "text": [
      "Mean of TOEFL Score = 107.41 \n",
      "Median of TOEFL Score = 107.00\n"
     ]
    }
   ],
   "source": [
    "# 1. Calculate the mean and median for TOEFL scores.\n",
    "mean = df['TOEFLscore'].mean()\n",
    "median = df['TOEFLscore'].median()\n",
    "print(f'Mean of TOEFL Score = {mean:.2f} \\nMedian of TOEFL Score = {median:.2f}')"
   ]
  },
  {
   "cell_type": "code",
   "execution_count": 4,
   "metadata": {},
   "outputs": [
    {
     "name": "stdout",
     "output_type": "stream",
     "text": [
      "Standard deviation of TOEFL Score = 6.069513777374126\n"
     ]
    }
   ],
   "source": [
    "# 2. Calculate the standard deviation for TOEFL scores.\n",
    "std = df['TOEFLscore'].std()\n",
    "print(f'Standard deviation of TOEFL Score = {std}')"
   ]
  },
  {
   "cell_type": "code",
   "execution_count": 5,
   "metadata": {},
   "outputs": [
    {
     "data": {
      "text/plain": [
       "[Text(0.5, 1.0, 'TOEFL score histogram'), Text(0.5, 0, 'TOEFL score')]"
      ]
     },
     "execution_count": 5,
     "metadata": {},
     "output_type": "execute_result"
    },
    {
     "data": {
      "image/png": "[encoded data removed]",
      "text/plain": [
       "<Figure size 640x480 with 1 Axes>"
      ]
     },
     "metadata": {},
     "output_type": "display_data"
    }
   ],
   "source": [
    "# 3. Create a histogram for the TOEFL score and be sure to display the estimated Probability distribution curve.\n",
    "min = df['TOEFLscore'].min()\n",
    "max = df['TOEFLscore'].max()\n",
    "\n",
    "# alternatively displot can be used\n",
    "TOEFLhist = sns.histplot(data=df, x='TOEFLscore', bins=range(min, max, 1), kde=True) \n",
    "TOEFLhist.set(title='TOEFL score histogram', xlabel='TOEFL score')\n"
   ]
  },
  {
   "cell_type": "code",
   "execution_count": 6,
   "metadata": {},
   "outputs": [
    {
     "name": "stdout",
     "output_type": "stream",
     "text": [
      "P-value = 0.003945790155853822 which is <= 0.05. Rejecting H0, supporting Ha. Data are not normally distributed.\n"
     ]
    }
   ],
   "source": [
    "# 4. Test whether the TOEFL score is selected from the normal distribution using a statistical test. Consider the level.\n",
    "# H0 = Data are normally distributed.\n",
    "# Ha = Data are not normally distributed.\n",
    "\n",
    "# Choose your significance level:\n",
    "nt_significance_lvl = 0.05\n",
    "\n",
    "# D'Agostino-Pierson test for normal distribution\n",
    "_, pvalue = stats.normaltest(df['TOEFLscore'])\n",
    "\n",
    "if pvalue > nt_significance_lvl:\n",
    "  print(f'P-value = {pvalue} which is > {nt_significance_lvl}. Supporting H0. Data are normally distributed.')\n",
    "else:\n",
    "  print(f'P-value = {pvalue} which is <= {nt_significance_lvl}. Rejecting H0, supporting Ha. Data are not normally distributed.')"
   ]
  },
  {
   "cell_type": "code",
   "execution_count": 7,
   "metadata": {},
   "outputs": [
    {
     "name": "stdout",
     "output_type": "stream",
     "text": [
      "P-value = 0.001466509419833878 which is <= 0.05. Rejecting H0, supporting Ha. Data are not normally distributed.\n"
     ]
    }
   ],
   "source": [
    "# Shapiro-Wilk test for normal distribution\n",
    "\n",
    "# Choose your significance level:\n",
    "sw_significance_lvl = 0.05\n",
    "\n",
    "_, pvalue = stats.shapiro(df['TOEFLscore'])\n",
    "\n",
    "if pvalue > sw_significance_lvl:\n",
    "  print(f'P-value = {pvalue} which is > {sw_significance_lvl}. Supporting H0. Data are normally distributed.')\n",
    "else:\n",
    "  print(f'P-value = {pvalue} which is <= {sw_significance_lvl}. Rejecting H0, supporting Ha. Data are not normally distributed.')"
   ]
  },
  {
   "cell_type": "markdown",
   "metadata": {},
   "source": [
    "**Hypothesis testing**"
   ]
  },
  {
   "cell_type": "code",
   "execution_count": 8,
   "metadata": {},
   "outputs": [
    {
     "data": {
      "text/plain": [
       "Research\n",
       "1    219\n",
       "0    181\n",
       "Name: count, dtype: int64"
      ]
     },
     "execution_count": 8,
     "metadata": {},
     "output_type": "execute_result"
    }
   ],
   "source": [
    "# 1. Divide the data into students with and without research experience.\n",
    "Experienced = df[df['Research'] == 1]\n",
    "InExperienced = df[df['Research'] == 0]\n",
    "\n",
    "df['Research'].value_counts()\n"
   ]
  },
  {
   "cell_type": "code",
   "execution_count": 9,
   "metadata": {},
   "outputs": [
    {
     "name": "stdout",
     "output_type": "stream",
     "text": [
      "Experienced students with Research: average GRE score = 322.85388127853884\n",
      "Inexperienced tudents with Research: average GRE score = 309.49171270718233\n"
     ]
    }
   ],
   "source": [
    "# 2. For both groups, use the average GRE score.\n",
    "\n",
    "print(f'Experienced students with Research: average GRE score = {Experienced['GREscore'].mean()}')\n",
    "print(f'Inexperienced tudents with Research: average GRE score = {InExperienced['GREscore'].mean()}')\n"
   ]
  },
  {
   "cell_type": "code",
   "execution_count": 10,
   "metadata": {},
   "outputs": [
    {
     "name": "stdout",
     "output_type": "stream",
     "text": [
      "P-value = 0.005145412486026274 which is <= 0.05. Rejecting H0, supporting Ha. Data are not normally distributed.\n"
     ]
    }
   ],
   "source": [
    "# 3. Statistically test whether there is a statistically significant difference in GRE scores between the two groups of students. Choose the correct test and remember to comment on the test scores.\n",
    "\n",
    "# Prerequisities:\n",
    "# D'Agostino-Pierson test for normal distribution\n",
    "# H0 = Data are normally distributed.\n",
    "# Ha = Data are not normally distributed.\n",
    "\n",
    "# First group:\n",
    "nt_significance_lvl = 0.05\n",
    "_, pvalue = stats.normaltest(Experienced['GREscore'])\n",
    "\n",
    "if pvalue > nt_significance_lvl:\n",
    "  print(f'P-value = {pvalue} which is > {nt_significance_lvl}. Supporting H0. Data are normally distributed.')\n",
    "else:\n",
    "  print(f'P-value = {pvalue} which is <= {nt_significance_lvl}. Rejecting H0, supporting Ha. Data are not normally distributed.')"
   ]
  },
  {
   "cell_type": "code",
   "execution_count": 11,
   "metadata": {},
   "outputs": [
    {
     "name": "stdout",
     "output_type": "stream",
     "text": [
      "P-value = 0.6076717821415273 which is > 0.05. Supporting H0. Data are normally distributed.\n"
     ]
    }
   ],
   "source": [
    "# Second group:\n",
    "_, pvalue = stats.normaltest(InExperienced['GREscore'])\n",
    "\n",
    "if pvalue > nt_significance_lvl:\n",
    "  print(f'P-value = {pvalue} which is > {nt_significance_lvl}. Supporting H0. Data are normally distributed.')\n",
    "else:\n",
    "  print(f'P-value = {pvalue} which is <= {nt_significance_lvl}. Rejecting H0, supporting Ha. Data are not normally distributed.')"
   ]
  },
  {
   "cell_type": "markdown",
   "metadata": {},
   "source": [
    "One of the group is not normaly distributed, therefore non-parametric test is needed."
   ]
  },
  {
   "cell_type": "code",
   "execution_count": 12,
   "metadata": {},
   "outputs": [
    {
     "name": "stdout",
     "output_type": "stream",
     "text": [
      "P-value = 0.000000000000000000000000000000005716693210824049 which is <= 0.05. Rejecting H0, supporting Ha. \n",
      "Experienced students have a bigger size of GRE score on average than Inexperienced students.\n"
     ]
    }
   ],
   "source": [
    "# non-normal distribution + two independent samples + testing the average = Mann Whitney U test\n",
    "# H0 = Experienced students have the same size of GRE score on average as Inexperienced students.\n",
    "# Ha = Experienced students have a bigger size of GRE score on average than Inexperienced students.\n",
    "\n",
    "_, pvalue = stats.mannwhitneyu(Experienced['GREscore'], InExperienced['GREscore'], alternative='greater')\n",
    "nonsc_pvalue = np.format_float_positional(pvalue)\n",
    "\n",
    "mwu_significance_lvl = 0.05\n",
    "\n",
    "if pvalue > mwu_significance_lvl:\n",
    "  print(f'P-value = {nonsc_pvalue} which is > {mwu_significance_lvl}. Supporting H0. \\nExperienced students have the same size of GRE score on average as Inexperienced students.')\n",
    "else:\n",
    "  print(f'P-value = {nonsc_pvalue} which is <= {mwu_significance_lvl}. Rejecting H0, supporting Ha. \\nExperienced students have a bigger size of GRE score on average than Inexperienced students.')"
   ]
  },
  {
   "cell_type": "markdown",
   "metadata": {},
   "source": [
    "**Correlation**"
   ]
  },
  {
   "cell_type": "code",
   "execution_count": 13,
   "metadata": {},
   "outputs": [
    {
     "name": "stdout",
     "output_type": "stream",
     "text": [
      "P-value = 4.714531292500165e-05 which is <= 0.05. Rejecting H0, supporting Ha. Data are not normally distributed.\n"
     ]
    }
   ],
   "source": [
    "# 1. Calculate the correlation between TOEFL scores and GRE scores.\n",
    "# 2. Comment on what the calculated correlation means. Is this correlation high, positive/negative?\n",
    "\n",
    "# Prerequisities:\n",
    "# D'Agostino-Pierson test for normal distribution\n",
    "# H0 = Data are normally distributed.\n",
    "# Ha = Data are not normally distributed.\n",
    "\n",
    "# First Group GRE Score:\n",
    "nt_significance_lvl = 0.05\n",
    "_, pvalue = stats.normaltest(df['GREscore'])\n",
    "\n",
    "if pvalue > nt_significance_lvl:\n",
    "  print(f'P-value = {pvalue} which is > {nt_significance_lvl}. Supporting H0. Data are normally distributed.')\n",
    "else:\n",
    "  print(f'P-value = {pvalue} which is <= {nt_significance_lvl}. Rejecting H0, supporting Ha. Data are not normally distributed.')"
   ]
  },
  {
   "cell_type": "code",
   "execution_count": 14,
   "metadata": {},
   "outputs": [
    {
     "name": "stdout",
     "output_type": "stream",
     "text": [
      "P-value = 0.003945790155853822 which is <= 0.05. Rejecting H0, supporting Ha. Data are not normally distributed.\n"
     ]
    }
   ],
   "source": [
    "# Second Group TOEFL Score:\n",
    "nt_significance_lvl = 0.05\n",
    "\n",
    "_, pvalue = stats.normaltest(df['TOEFLscore'])\n",
    "\n",
    "if pvalue > nt_significance_lvl:\n",
    "  print(f'P-value = {pvalue} which is > {nt_significance_lvl}. Supporting H0. Data are normally distributed.')\n",
    "else:\n",
    "  print(f'P-value = {pvalue} which is <= {nt_significance_lvl}. Rejecting H0, supporting Ha. Data are not normally distributed.')"
   ]
  },
  {
   "cell_type": "code",
   "execution_count": 15,
   "metadata": {},
   "outputs": [
    {
     "data": {
      "text/plain": [
       "<Axes: xlabel='TOEFLscore', ylabel='GREscore'>"
      ]
     },
     "execution_count": 15,
     "metadata": {},
     "output_type": "execute_result"
    },
    {
     "data": {
      "image/png": "[encoded data removed]",
      "text/plain": [
       "<Figure size 640x480 with 1 Axes>"
      ]
     },
     "metadata": {},
     "output_type": "display_data"
    }
   ],
   "source": [
    "# Checking and showing the level of linearity and distant observations\n",
    "sns.regplot(data=df, x='TOEFLscore', y='GREscore')"
   ]
  },
  {
   "cell_type": "code",
   "execution_count": 16,
   "metadata": {},
   "outputs": [
    {
     "name": "stdout",
     "output_type": "stream",
     "text": [
      "The level of correlation \"Statistic\" is: 0.6675090740583592. i.e. it is a strong positive correlation.\n",
      "The higher GRE score, the higher TOEFL score.\n",
      "P-value = 0.00000000000000000000000000000000000000000000000000000000000000000000000000000000007309119198787445 which is <= 0.05. Rejecting H0, supporting Ha. \n",
      "GRE score and TOEFL score are statistically dependent.\n"
     ]
    }
   ],
   "source": [
    "# Correlation coefficient and testing\n",
    "# two samples, non-normal distribution, correlation testing = Kendall Tau or Spearman coefficient test\n",
    "\n",
    "# H0 = GRE score and TOEFL score are not statistically dependent.\n",
    "# Ha = GRE score and TOEFL score are statistically dependent.\n",
    "\n",
    "statistic, pvalue = stats.kendalltau(df['TOEFLscore'], df['GREscore'])\n",
    "nonsc_pvalue = np.format_float_positional(pvalue)\n",
    "\n",
    "print(f'The level of correlation \"Statistic\" is: {statistic}. i.e. it is a strong positive correlation.\\nThe higher GRE score, the higher TOEFL score.')\n",
    "\n",
    "kt_significance_lvl = 0.05\n",
    "\n",
    "if pvalue > kt_significance_lvl:\n",
    "  print(f'P-value = {nonsc_pvalue} which is > {kt_significance_lvl}. Supporting H0.GRE score and TOEFL score are not statistically dependent.')\n",
    "else:\n",
    "  print(f'P-value = {nonsc_pvalue} which is <= {kt_significance_lvl}. Rejecting H0, supporting Ha. \\nGRE score and TOEFL score are statistically dependent.')\n"
   ]
  },
  {
   "cell_type": "code",
   "execution_count": 17,
   "metadata": {},
   "outputs": [
    {
     "data": {
      "text/plain": [
       "[Text(0.5, 1.0, 'Chance of Admit and CGPA correlation'),\n",
       " Text(0, 0.5, 'Chance Of Admit')]"
      ]
     },
     "execution_count": 17,
     "metadata": {},
     "output_type": "execute_result"
    },
    {
     "data": {
      "image/png": "[encoded data removed]",
      "text/plain": [
       "<Figure size 640x480 with 1 Axes>"
      ]
     },
     "metadata": {},
     "output_type": "display_data"
    }
   ],
   "source": [
    "# 3. Create a correlation plot (sns.regplot) for the explained variance Chance of Admit and the variable that is most highly correlated with it. \n",
    "\n",
    "correlation = df.corr()\n",
    "\n",
    "max_corr_column = correlation['ChanceOfAdmit'].drop('ChanceOfAdmit').idxmax()\n",
    "corplot = sns.regplot(data=df, y='ChanceOfAdmit', x=max_corr_column, scatter_kws={\"s\":4, \"color\": \"green\"}, line_kws={\"color\": \"orange\"})\n",
    "corplot.set(title=f'Chance of Admit and {max_corr_column} correlation', ylabel='Chance Of Admit')\n"
   ]
  },
  {
   "cell_type": "markdown",
   "metadata": {},
   "source": [
    "**Explanatory variable**"
   ]
  },
  {
   "cell_type": "code",
   "execution_count": 18,
   "metadata": {},
   "outputs": [
    {
     "data": {
      "text/plain": [
       "<Axes: xlabel='ChanceOfAdmit'>"
      ]
     },
     "execution_count": 18,
     "metadata": {},
     "output_type": "execute_result"
    },
    {
     "data": {
      "image/png": "[encoded data removed]",
      "text/plain": [
       "<Figure size 640x480 with 1 Axes>"
      ]
     },
     "metadata": {},
     "output_type": "display_data"
    }
   ],
   "source": [
    "# 1. The Chance of Admit will be the next variable to be explained. Create a boxplot for this graduate so that it is possible to visually identify the outlying values, if any.\n",
    "\n",
    "sns.boxplot(data=df, x='ChanceOfAdmit')"
   ]
  },
  {
   "cell_type": "code",
   "execution_count": 19,
   "metadata": {},
   "outputs": [
    {
     "data": {
      "text/plain": [
       "0.64"
      ]
     },
     "execution_count": 19,
     "metadata": {},
     "output_type": "execute_result"
    }
   ],
   "source": [
    "# identifying outliers\n",
    "lowerWhisker = np.quantile(df['ChanceOfAdmit'], 0.25)\n",
    "lowerWhisker"
   ]
  },
  {
   "cell_type": "code",
   "execution_count": 20,
   "metadata": {},
   "outputs": [
    {
     "data": {
      "text/plain": [
       "<Axes: xlabel='ChanceOfAdmit'>"
      ]
     },
     "execution_count": 20,
     "metadata": {},
     "output_type": "execute_result"
    },
    {
     "data": {
      "image/png": "[encoded data removed]",
      "text/plain": [
       "<Figure size 640x480 with 1 Axes>"
      ]
     },
     "metadata": {},
     "output_type": "display_data"
    }
   ],
   "source": [
    "# 2. Eliminate outlying observations based on the criteria found in the boxplot.\n",
    "\n",
    "df = df[df['ChanceOfAdmit'] > lowerWhisker]\n",
    "\n",
    "sns.boxplot(data=df, x='ChanceOfAdmit')"
   ]
  },
  {
   "cell_type": "markdown",
   "metadata": {},
   "source": [
    "**Linear regression**"
   ]
  },
  {
   "cell_type": "code",
   "execution_count": 21,
   "metadata": {},
   "outputs": [
    {
     "data": {
      "text/html": [
       "<table class=\"simpletable\">\n",
       "<caption>OLS Regression Results</caption>\n",
       "<tr>\n",
       "  <th>Dep. Variable:</th>      <td>ChanceOfAdmit</td>  <th>  R-squared:         </th> <td>   0.835</td> \n",
       "</tr>\n",
       "<tr>\n",
       "  <th>Model:</th>                   <td>OLS</td>       <th>  Adj. R-squared:    </th> <td>   0.830</td> \n",
       "</tr>\n",
       "<tr>\n",
       "  <th>Method:</th>             <td>Least Squares</td>  <th>  F-statistic:       </th> <td>   201.0</td> \n",
       "</tr>\n",
       "<tr>\n",
       "  <th>Date:</th>             <td>Sun, 05 May 2024</td> <th>  Prob (F-statistic):</th> <td>4.71e-105</td>\n",
       "</tr>\n",
       "<tr>\n",
       "  <th>Time:</th>                 <td>11:26:53</td>     <th>  Log-Likelihood:    </th> <td>  538.01</td> \n",
       "</tr>\n",
       "<tr>\n",
       "  <th>No. Observations:</th>      <td>   287</td>      <th>  AIC:               </th> <td>  -1060.</td> \n",
       "</tr>\n",
       "<tr>\n",
       "  <th>Df Residuals:</th>          <td>   279</td>      <th>  BIC:               </th> <td>  -1031.</td> \n",
       "</tr>\n",
       "<tr>\n",
       "  <th>Df Model:</th>              <td>     7</td>      <th>                     </th>     <td> </td>    \n",
       "</tr>\n",
       "<tr>\n",
       "  <th>Covariance Type:</th>      <td>nonrobust</td>    <th>                     </th>     <td> </td>    \n",
       "</tr>\n",
       "</table>\n",
       "<table class=\"simpletable\">\n",
       "<tr>\n",
       "          <td></td>            <th>coef</th>     <th>std err</th>      <th>t</th>      <th>P>|t|</th>  <th>[0.025</th>    <th>0.975]</th>  \n",
       "</tr>\n",
       "<tr>\n",
       "  <th>Intercept</th>        <td>   -0.7564</td> <td>    0.099</td> <td>   -7.676</td> <td> 0.000</td> <td>   -0.950</td> <td>   -0.562</td>\n",
       "</tr>\n",
       "<tr>\n",
       "  <th>GREscore</th>         <td>    0.0010</td> <td>    0.000</td> <td>    2.077</td> <td> 0.039</td> <td> 5.05e-05</td> <td>    0.002</td>\n",
       "</tr>\n",
       "<tr>\n",
       "  <th>TOEFLscore</th>       <td>    0.0036</td> <td>    0.001</td> <td>    4.704</td> <td> 0.000</td> <td>    0.002</td> <td>    0.005</td>\n",
       "</tr>\n",
       "<tr>\n",
       "  <th>UniversityRating</th> <td>    0.0106</td> <td>    0.004</td> <td>    3.002</td> <td> 0.003</td> <td>    0.004</td> <td>    0.018</td>\n",
       "</tr>\n",
       "<tr>\n",
       "  <th>SOP</th>              <td>    0.0034</td> <td>    0.004</td> <td>    0.748</td> <td> 0.455</td> <td>   -0.005</td> <td>    0.012</td>\n",
       "</tr>\n",
       "<tr>\n",
       "  <th>LOR</th>              <td>    0.0073</td> <td>    0.004</td> <td>    1.918</td> <td> 0.056</td> <td>   -0.000</td> <td>    0.015</td>\n",
       "</tr>\n",
       "<tr>\n",
       "  <th>CGPA</th>             <td>    0.0859</td> <td>    0.009</td> <td>    9.237</td> <td> 0.000</td> <td>    0.068</td> <td>    0.104</td>\n",
       "</tr>\n",
       "<tr>\n",
       "  <th>Research</th>         <td>    0.0200</td> <td>    0.006</td> <td>    3.497</td> <td> 0.001</td> <td>    0.009</td> <td>    0.031</td>\n",
       "</tr>\n",
       "</table>\n",
       "<table class=\"simpletable\">\n",
       "<tr>\n",
       "  <th>Omnibus:</th>       <td>37.119</td> <th>  Durbin-Watson:     </th> <td>   1.029</td>\n",
       "</tr>\n",
       "<tr>\n",
       "  <th>Prob(Omnibus):</th> <td> 0.000</td> <th>  Jarque-Bera (JB):  </th> <td>  57.074</td>\n",
       "</tr>\n",
       "<tr>\n",
       "  <th>Skew:</th>          <td>-0.789</td> <th>  Prob(JB):          </th> <td>4.04e-13</td>\n",
       "</tr>\n",
       "<tr>\n",
       "  <th>Kurtosis:</th>      <td> 4.511</td> <th>  Cond. No.          </th> <td>1.51e+04</td>\n",
       "</tr>\n",
       "</table><br/><br/>Notes:<br/>[1] Standard Errors assume that the covariance matrix of the errors is correctly specified.<br/>[2] The condition number is large, 1.51e+04. This might indicate that there are<br/>strong multicollinearity or other numerical problems."
      ],
      "text/latex": [
       "\\begin{center}\n",
       "\\begin{tabular}{lclc}\n",
       "\\toprule\n",
       "\\textbf{Dep. Variable:}    &  ChanceOfAdmit   & \\textbf{  R-squared:         } &     0.835   \\\\\n",
       "\\textbf{Model:}            &       OLS        & \\textbf{  Adj. R-squared:    } &     0.830   \\\\\n",
       "\\textbf{Method:}           &  Least Squares   & \\textbf{  F-statistic:       } &     201.0   \\\\\n",
       "\\textbf{Date:}             & Sun, 05 May 2024 & \\textbf{  Prob (F-statistic):} & 4.71e-105   \\\\\n",
       "\\textbf{Time:}             &     11:26:53     & \\textbf{  Log-Likelihood:    } &    538.01   \\\\\n",
       "\\textbf{No. Observations:} &         287      & \\textbf{  AIC:               } &    -1060.   \\\\\n",
       "\\textbf{Df Residuals:}     &         279      & \\textbf{  BIC:               } &    -1031.   \\\\\n",
       "\\textbf{Df Model:}         &           7      & \\textbf{                     } &             \\\\\n",
       "\\textbf{Covariance Type:}  &    nonrobust     & \\textbf{                     } &             \\\\\n",
       "\\bottomrule\n",
       "\\end{tabular}\n",
       "\\begin{tabular}{lcccccc}\n",
       "                          & \\textbf{coef} & \\textbf{std err} & \\textbf{t} & \\textbf{P$> |$t$|$} & \\textbf{[0.025} & \\textbf{0.975]}  \\\\\n",
       "\\midrule\n",
       "\\textbf{Intercept}        &      -0.7564  &        0.099     &    -7.676  &         0.000        &       -0.950    &       -0.562     \\\\\n",
       "\\textbf{GREscore}         &       0.0010  &        0.000     &     2.077  &         0.039        &     5.05e-05    &        0.002     \\\\\n",
       "\\textbf{TOEFLscore}       &       0.0036  &        0.001     &     4.704  &         0.000        &        0.002    &        0.005     \\\\\n",
       "\\textbf{UniversityRating} &       0.0106  &        0.004     &     3.002  &         0.003        &        0.004    &        0.018     \\\\\n",
       "\\textbf{SOP}              &       0.0034  &        0.004     &     0.748  &         0.455        &       -0.005    &        0.012     \\\\\n",
       "\\textbf{LOR}              &       0.0073  &        0.004     &     1.918  &         0.056        &       -0.000    &        0.015     \\\\\n",
       "\\textbf{CGPA}             &       0.0859  &        0.009     &     9.237  &         0.000        &        0.068    &        0.104     \\\\\n",
       "\\textbf{Research}         &       0.0200  &        0.006     &     3.497  &         0.001        &        0.009    &        0.031     \\\\\n",
       "\\bottomrule\n",
       "\\end{tabular}\n",
       "\\begin{tabular}{lclc}\n",
       "\\textbf{Omnibus:}       & 37.119 & \\textbf{  Durbin-Watson:     } &    1.029  \\\\\n",
       "\\textbf{Prob(Omnibus):} &  0.000 & \\textbf{  Jarque-Bera (JB):  } &   57.074  \\\\\n",
       "\\textbf{Skew:}          & -0.789 & \\textbf{  Prob(JB):          } & 4.04e-13  \\\\\n",
       "\\textbf{Kurtosis:}      &  4.511 & \\textbf{  Cond. No.          } & 1.51e+04  \\\\\n",
       "\\bottomrule\n",
       "\\end{tabular}\n",
       "%\\caption{OLS Regression Results}\n",
       "\\end{center}\n",
       "\n",
       "Notes: \\newline\n",
       " [1] Standard Errors assume that the covariance matrix of the errors is correctly specified. \\newline\n",
       " [2] The condition number is large, 1.51e+04. This might indicate that there are \\newline\n",
       " strong multicollinearity or other numerical problems."
      ],
      "text/plain": [
       "<class 'statsmodels.iolib.summary.Summary'>\n",
       "\"\"\"\n",
       "                            OLS Regression Results                            \n",
       "==============================================================================\n",
       "Dep. Variable:          ChanceOfAdmit   R-squared:                       0.835\n",
       "Model:                            OLS   Adj. R-squared:                  0.830\n",
       "Method:                 Least Squares   F-statistic:                     201.0\n",
       "Date:                Sun, 05 May 2024   Prob (F-statistic):          4.71e-105\n",
       "Time:                        11:26:53   Log-Likelihood:                 538.01\n",
       "No. Observations:                 287   AIC:                            -1060.\n",
       "Df Residuals:                     279   BIC:                            -1031.\n",
       "Df Model:                           7                                         \n",
       "Covariance Type:            nonrobust                                         \n",
       "====================================================================================\n",
       "                       coef    std err          t      P>|t|      [0.025      0.975]\n",
       "------------------------------------------------------------------------------------\n",
       "Intercept           -0.7564      0.099     -7.676      0.000      -0.950      -0.562\n",
       "GREscore             0.0010      0.000      2.077      0.039    5.05e-05       0.002\n",
       "TOEFLscore           0.0036      0.001      4.704      0.000       0.002       0.005\n",
       "UniversityRating     0.0106      0.004      3.002      0.003       0.004       0.018\n",
       "SOP                  0.0034      0.004      0.748      0.455      -0.005       0.012\n",
       "LOR                  0.0073      0.004      1.918      0.056      -0.000       0.015\n",
       "CGPA                 0.0859      0.009      9.237      0.000       0.068       0.104\n",
       "Research             0.0200      0.006      3.497      0.001       0.009       0.031\n",
       "==============================================================================\n",
       "Omnibus:                       37.119   Durbin-Watson:                   1.029\n",
       "Prob(Omnibus):                  0.000   Jarque-Bera (JB):               57.074\n",
       "Skew:                          -0.789   Prob(JB):                     4.04e-13\n",
       "Kurtosis:                       4.511   Cond. No.                     1.51e+04\n",
       "==============================================================================\n",
       "\n",
       "Notes:\n",
       "[1] Standard Errors assume that the covariance matrix of the errors is correctly specified.\n",
       "[2] The condition number is large, 1.51e+04. This might indicate that there are\n",
       "strong multicollinearity or other numerical problems.\n",
       "\"\"\""
      ]
     },
     "execution_count": 21,
     "metadata": {},
     "output_type": "execute_result"
    }
   ],
   "source": [
    "# 1. Write an equation for linear regression. Include all variables in the equation, that make sense. Note that you may need to rename the column names.\n",
    "# 2. Estimate the parameters of the linear regression model.\n",
    "\n",
    "formula = \"ChanceOfAdmit ~ GREscore + TOEFLscore + UniversityRating + SOP + LOR + CGPA + Research\"\n",
    "mod = smf.ols(formula=formula, data=df)\n",
    "res = mod.fit()\n",
    "res.summary()"
   ]
  },
  {
   "cell_type": "code",
   "execution_count": 22,
   "metadata": {},
   "outputs": [],
   "source": [
    "# 3. Interpret the coefficients of the model. Which coefficients are statistically significant? Discuss which variables have the largest effect on the chances of adoption and why.\n",
    "\n",
    "# Statistically significant are those coefficients with p>|t| < 0.05 as a level of significanse. The non-significant variables are \"SOP\" and \"LOR\", they should be removed.\n",
    "# The largest effect on Adoption chances has Intercept (negative), CGPA (positive), Research (positive), because its coefficients have the largest absolute values.\n",
    "\n",
    "\n",
    "# 4. Evaluate the fit quality of your linear regression model using the coefficient of determination R2.\n",
    "# Value of 0,835 is high, The Regression model explains 83,5 % of the variability Chance of Admit variable."
   ]
  },
  {
   "cell_type": "markdown",
   "metadata": {},
   "source": [
    "**Bonus: Cook's Distance**"
   ]
  },
  {
   "cell_type": "code",
   "execution_count": 23,
   "metadata": {},
   "outputs": [
    {
     "data": {
      "text/html": [
       "<div>\n",
       "<style scoped>\n",
       "    .dataframe tbody tr th:only-of-type {\n",
       "        vertical-align: middle;\n",
       "    }\n",
       "\n",
       "    .dataframe tbody tr th {\n",
       "        vertical-align: top;\n",
       "    }\n",
       "\n",
       "    .dataframe thead th {\n",
       "        text-align: right;\n",
       "    }\n",
       "</style>\n",
       "<table border=\"1\" class=\"dataframe\">\n",
       "  <thead>\n",
       "    <tr style=\"text-align: right;\">\n",
       "      <th></th>\n",
       "      <th>SerialNo</th>\n",
       "      <th>GREscore</th>\n",
       "      <th>TOEFLscore</th>\n",
       "      <th>UniversityRating</th>\n",
       "      <th>SOP</th>\n",
       "      <th>LOR</th>\n",
       "      <th>CGPA</th>\n",
       "      <th>Research</th>\n",
       "      <th>ChanceOfAdmit</th>\n",
       "      <th>CooksDistance</th>\n",
       "    </tr>\n",
       "  </thead>\n",
       "  <tbody>\n",
       "    <tr>\n",
       "      <th>0</th>\n",
       "      <td>1</td>\n",
       "      <td>337</td>\n",
       "      <td>118</td>\n",
       "      <td>4</td>\n",
       "      <td>4.5</td>\n",
       "      <td>4.5</td>\n",
       "      <td>9.65</td>\n",
       "      <td>1</td>\n",
       "      <td>0.92</td>\n",
       "      <td>0.000130</td>\n",
       "    </tr>\n",
       "    <tr>\n",
       "      <th>1</th>\n",
       "      <td>2</td>\n",
       "      <td>324</td>\n",
       "      <td>107</td>\n",
       "      <td>4</td>\n",
       "      <td>4.0</td>\n",
       "      <td>4.5</td>\n",
       "      <td>8.87</td>\n",
       "      <td>1</td>\n",
       "      <td>0.76</td>\n",
       "      <td>0.002921</td>\n",
       "    </tr>\n",
       "    <tr>\n",
       "      <th>2</th>\n",
       "      <td>3</td>\n",
       "      <td>316</td>\n",
       "      <td>104</td>\n",
       "      <td>3</td>\n",
       "      <td>3.0</td>\n",
       "      <td>3.5</td>\n",
       "      <td>8.00</td>\n",
       "      <td>1</td>\n",
       "      <td>0.72</td>\n",
       "      <td>0.002505</td>\n",
       "    </tr>\n",
       "    <tr>\n",
       "      <th>3</th>\n",
       "      <td>4</td>\n",
       "      <td>322</td>\n",
       "      <td>110</td>\n",
       "      <td>3</td>\n",
       "      <td>3.5</td>\n",
       "      <td>2.5</td>\n",
       "      <td>8.67</td>\n",
       "      <td>1</td>\n",
       "      <td>0.80</td>\n",
       "      <td>0.000336</td>\n",
       "    </tr>\n",
       "    <tr>\n",
       "      <th>4</th>\n",
       "      <td>5</td>\n",
       "      <td>314</td>\n",
       "      <td>103</td>\n",
       "      <td>2</td>\n",
       "      <td>2.0</td>\n",
       "      <td>3.0</td>\n",
       "      <td>8.21</td>\n",
       "      <td>0</td>\n",
       "      <td>0.65</td>\n",
       "      <td>0.001103</td>\n",
       "    </tr>\n",
       "  </tbody>\n",
       "</table>\n",
       "</div>"
      ],
      "text/plain": [
       "   SerialNo  GREscore  TOEFLscore  UniversityRating  SOP  LOR  CGPA  Research  \\\n",
       "0         1       337         118                 4  4.5  4.5  9.65         1   \n",
       "1         2       324         107                 4  4.0  4.5  8.87         1   \n",
       "2         3       316         104                 3  3.0  3.5  8.00         1   \n",
       "3         4       322         110                 3  3.5  2.5  8.67         1   \n",
       "4         5       314         103                 2  2.0  3.0  8.21         0   \n",
       "\n",
       "   ChanceOfAdmit  CooksDistance  \n",
       "0           0.92       0.000130  \n",
       "1           0.76       0.002921  \n",
       "2           0.72       0.002505  \n",
       "3           0.80       0.000336  \n",
       "4           0.65       0.001103  "
      ]
     },
     "execution_count": 23,
     "metadata": {},
     "output_type": "execute_result"
    }
   ],
   "source": [
    "# 1. Calculate Cook's distance for each point.\n",
    "\n",
    "formula = \"ChanceOfAdmit ~ GREscore + TOEFLscore + UniversityRating + CGPA + Research\"\n",
    "mod = smf.ols(formula=formula, data=df)\n",
    "res = mod.fit()\n",
    "influence = OLSInfluence(res)\n",
    "df['CooksDistance'] = influence.cooks_distance[0]\n",
    "df.head()"
   ]
  },
  {
   "cell_type": "code",
   "execution_count": 24,
   "metadata": {},
   "outputs": [
    {
     "data": {
      "text/plain": [
       "<Axes: xlabel='CooksDistance', ylabel='Count'>"
      ]
     },
     "execution_count": 24,
     "metadata": {},
     "output_type": "execute_result"
    },
    {
     "data": {
      "image/png": "[encoded data removed]",
      "text/plain": [
       "<Figure size 640x480 with 1 Axes>"
      ]
     },
     "metadata": {},
     "output_type": "display_data"
    }
   ],
   "source": [
    "# 2. Create a histogram for Cook's distance. Should be some points removed, because they would affect our linear regression too much?\n",
    "\n",
    "sns.histplot(data=df, x='CooksDistance')"
   ]
  },
  {
   "cell_type": "code",
   "execution_count": 25,
   "metadata": {},
   "outputs": [],
   "source": [
    "# removing outliers\n",
    "df = df[df['CooksDistance'] < 0.025]"
   ]
  },
  {
   "cell_type": "code",
   "execution_count": 26,
   "metadata": {},
   "outputs": [
    {
     "data": {
      "text/plain": [
       "<Axes: xlabel='CooksDistance', ylabel='Count'>"
      ]
     },
     "execution_count": 26,
     "metadata": {},
     "output_type": "execute_result"
    },
    {
     "data": {
      "image/png": "[encoded data removed]",
      "text/plain": [
       "<Figure size 640x480 with 1 Axes>"
      ]
     },
     "metadata": {},
     "output_type": "display_data"
    }
   ],
   "source": [
    "sns.histplot(data=df, x='CooksDistance')"
   ]
  },
  {
   "cell_type": "code",
   "execution_count": 27,
   "metadata": {},
   "outputs": [
    {
     "data": {
      "text/html": [
       "<table class=\"simpletable\">\n",
       "<caption>OLS Regression Results</caption>\n",
       "<tr>\n",
       "  <th>Dep. Variable:</th>      <td>ChanceOfAdmit</td>  <th>  R-squared:         </th> <td>   0.866</td> \n",
       "</tr>\n",
       "<tr>\n",
       "  <th>Model:</th>                   <td>OLS</td>       <th>  Adj. R-squared:    </th> <td>   0.863</td> \n",
       "</tr>\n",
       "<tr>\n",
       "  <th>Method:</th>             <td>Least Squares</td>  <th>  F-statistic:       </th> <td>   351.9</td> \n",
       "</tr>\n",
       "<tr>\n",
       "  <th>Date:</th>             <td>Sun, 05 May 2024</td> <th>  Prob (F-statistic):</th> <td>9.62e-117</td>\n",
       "</tr>\n",
       "<tr>\n",
       "  <th>Time:</th>                 <td>11:26:54</td>     <th>  Log-Likelihood:    </th> <td>  552.93</td> \n",
       "</tr>\n",
       "<tr>\n",
       "  <th>No. Observations:</th>      <td>   279</td>      <th>  AIC:               </th> <td>  -1094.</td> \n",
       "</tr>\n",
       "<tr>\n",
       "  <th>Df Residuals:</th>          <td>   273</td>      <th>  BIC:               </th> <td>  -1072.</td> \n",
       "</tr>\n",
       "<tr>\n",
       "  <th>Df Model:</th>              <td>     5</td>      <th>                     </th>     <td> </td>    \n",
       "</tr>\n",
       "<tr>\n",
       "  <th>Covariance Type:</th>      <td>nonrobust</td>    <th>                     </th>     <td> </td>    \n",
       "</tr>\n",
       "</table>\n",
       "<table class=\"simpletable\">\n",
       "<tr>\n",
       "          <td></td>            <th>coef</th>     <th>std err</th>      <th>t</th>      <th>P>|t|</th>  <th>[0.025</th>    <th>0.975]</th>  \n",
       "</tr>\n",
       "<tr>\n",
       "  <th>Intercept</th>        <td>   -0.6053</td> <td>    0.091</td> <td>   -6.669</td> <td> 0.000</td> <td>   -0.784</td> <td>   -0.427</td>\n",
       "</tr>\n",
       "<tr>\n",
       "  <th>GREscore</th>         <td>    0.0002</td> <td>    0.000</td> <td>    0.469</td> <td> 0.639</td> <td>   -0.001</td> <td>    0.001</td>\n",
       "</tr>\n",
       "<tr>\n",
       "  <th>TOEFLscore</th>       <td>    0.0033</td> <td>    0.001</td> <td>    4.790</td> <td> 0.000</td> <td>    0.002</td> <td>    0.005</td>\n",
       "</tr>\n",
       "<tr>\n",
       "  <th>UniversityRating</th> <td>    0.0168</td> <td>    0.003</td> <td>    6.083</td> <td> 0.000</td> <td>    0.011</td> <td>    0.022</td>\n",
       "</tr>\n",
       "<tr>\n",
       "  <th>CGPA</th>             <td>    0.1018</td> <td>    0.008</td> <td>   12.366</td> <td> 0.000</td> <td>    0.086</td> <td>    0.118</td>\n",
       "</tr>\n",
       "<tr>\n",
       "  <th>Research</th>         <td>    0.0262</td> <td>    0.005</td> <td>    5.022</td> <td> 0.000</td> <td>    0.016</td> <td>    0.037</td>\n",
       "</tr>\n",
       "</table>\n",
       "<table class=\"simpletable\">\n",
       "<tr>\n",
       "  <th>Omnibus:</th>       <td>17.155</td> <th>  Durbin-Watson:     </th> <td>   1.219</td>\n",
       "</tr>\n",
       "<tr>\n",
       "  <th>Prob(Omnibus):</th> <td> 0.000</td> <th>  Jarque-Bera (JB):  </th> <td>  18.509</td>\n",
       "</tr>\n",
       "<tr>\n",
       "  <th>Skew:</th>          <td>-0.598</td> <th>  Prob(JB):          </th> <td>9.57e-05</td>\n",
       "</tr>\n",
       "<tr>\n",
       "  <th>Kurtosis:</th>      <td> 3.404</td> <th>  Cond. No.          </th> <td>1.53e+04</td>\n",
       "</tr>\n",
       "</table><br/><br/>Notes:<br/>[1] Standard Errors assume that the covariance matrix of the errors is correctly specified.<br/>[2] The condition number is large, 1.53e+04. This might indicate that there are<br/>strong multicollinearity or other numerical problems."
      ],
      "text/latex": [
       "\\begin{center}\n",
       "\\begin{tabular}{lclc}\n",
       "\\toprule\n",
       "\\textbf{Dep. Variable:}    &  ChanceOfAdmit   & \\textbf{  R-squared:         } &     0.866   \\\\\n",
       "\\textbf{Model:}            &       OLS        & \\textbf{  Adj. R-squared:    } &     0.863   \\\\\n",
       "\\textbf{Method:}           &  Least Squares   & \\textbf{  F-statistic:       } &     351.9   \\\\\n",
       "\\textbf{Date:}             & Sun, 05 May 2024 & \\textbf{  Prob (F-statistic):} & 9.62e-117   \\\\\n",
       "\\textbf{Time:}             &     11:26:54     & \\textbf{  Log-Likelihood:    } &    552.93   \\\\\n",
       "\\textbf{No. Observations:} &         279      & \\textbf{  AIC:               } &    -1094.   \\\\\n",
       "\\textbf{Df Residuals:}     &         273      & \\textbf{  BIC:               } &    -1072.   \\\\\n",
       "\\textbf{Df Model:}         &           5      & \\textbf{                     } &             \\\\\n",
       "\\textbf{Covariance Type:}  &    nonrobust     & \\textbf{                     } &             \\\\\n",
       "\\bottomrule\n",
       "\\end{tabular}\n",
       "\\begin{tabular}{lcccccc}\n",
       "                          & \\textbf{coef} & \\textbf{std err} & \\textbf{t} & \\textbf{P$> |$t$|$} & \\textbf{[0.025} & \\textbf{0.975]}  \\\\\n",
       "\\midrule\n",
       "\\textbf{Intercept}        &      -0.6053  &        0.091     &    -6.669  &         0.000        &       -0.784    &       -0.427     \\\\\n",
       "\\textbf{GREscore}         &       0.0002  &        0.000     &     0.469  &         0.639        &       -0.001    &        0.001     \\\\\n",
       "\\textbf{TOEFLscore}       &       0.0033  &        0.001     &     4.790  &         0.000        &        0.002    &        0.005     \\\\\n",
       "\\textbf{UniversityRating} &       0.0168  &        0.003     &     6.083  &         0.000        &        0.011    &        0.022     \\\\\n",
       "\\textbf{CGPA}             &       0.1018  &        0.008     &    12.366  &         0.000        &        0.086    &        0.118     \\\\\n",
       "\\textbf{Research}         &       0.0262  &        0.005     &     5.022  &         0.000        &        0.016    &        0.037     \\\\\n",
       "\\bottomrule\n",
       "\\end{tabular}\n",
       "\\begin{tabular}{lclc}\n",
       "\\textbf{Omnibus:}       & 17.155 & \\textbf{  Durbin-Watson:     } &    1.219  \\\\\n",
       "\\textbf{Prob(Omnibus):} &  0.000 & \\textbf{  Jarque-Bera (JB):  } &   18.509  \\\\\n",
       "\\textbf{Skew:}          & -0.598 & \\textbf{  Prob(JB):          } & 9.57e-05  \\\\\n",
       "\\textbf{Kurtosis:}      &  3.404 & \\textbf{  Cond. No.          } & 1.53e+04  \\\\\n",
       "\\bottomrule\n",
       "\\end{tabular}\n",
       "%\\caption{OLS Regression Results}\n",
       "\\end{center}\n",
       "\n",
       "Notes: \\newline\n",
       " [1] Standard Errors assume that the covariance matrix of the errors is correctly specified. \\newline\n",
       " [2] The condition number is large, 1.53e+04. This might indicate that there are \\newline\n",
       " strong multicollinearity or other numerical problems."
      ],
      "text/plain": [
       "<class 'statsmodels.iolib.summary.Summary'>\n",
       "\"\"\"\n",
       "                            OLS Regression Results                            \n",
       "==============================================================================\n",
       "Dep. Variable:          ChanceOfAdmit   R-squared:                       0.866\n",
       "Model:                            OLS   Adj. R-squared:                  0.863\n",
       "Method:                 Least Squares   F-statistic:                     351.9\n",
       "Date:                Sun, 05 May 2024   Prob (F-statistic):          9.62e-117\n",
       "Time:                        11:26:54   Log-Likelihood:                 552.93\n",
       "No. Observations:                 279   AIC:                            -1094.\n",
       "Df Residuals:                     273   BIC:                            -1072.\n",
       "Df Model:                           5                                         \n",
       "Covariance Type:            nonrobust                                         \n",
       "====================================================================================\n",
       "                       coef    std err          t      P>|t|      [0.025      0.975]\n",
       "------------------------------------------------------------------------------------\n",
       "Intercept           -0.6053      0.091     -6.669      0.000      -0.784      -0.427\n",
       "GREscore             0.0002      0.000      0.469      0.639      -0.001       0.001\n",
       "TOEFLscore           0.0033      0.001      4.790      0.000       0.002       0.005\n",
       "UniversityRating     0.0168      0.003      6.083      0.000       0.011       0.022\n",
       "CGPA                 0.1018      0.008     12.366      0.000       0.086       0.118\n",
       "Research             0.0262      0.005      5.022      0.000       0.016       0.037\n",
       "==============================================================================\n",
       "Omnibus:                       17.155   Durbin-Watson:                   1.219\n",
       "Prob(Omnibus):                  0.000   Jarque-Bera (JB):               18.509\n",
       "Skew:                          -0.598   Prob(JB):                     9.57e-05\n",
       "Kurtosis:                       3.404   Cond. No.                     1.53e+04\n",
       "==============================================================================\n",
       "\n",
       "Notes:\n",
       "[1] Standard Errors assume that the covariance matrix of the errors is correctly specified.\n",
       "[2] The condition number is large, 1.53e+04. This might indicate that there are\n",
       "strong multicollinearity or other numerical problems.\n",
       "\"\"\""
      ]
     },
     "execution_count": 27,
     "metadata": {},
     "output_type": "execute_result"
    }
   ],
   "source": [
    "formula = \"ChanceOfAdmit ~ GREscore + TOEFLscore + UniversityRating + CGPA + Research\"\n",
    "mod = smf.ols(formula=formula, data=df)\n",
    "res = mod.fit()\n",
    "res.summary()\n",
    "\n",
    "# After removing rows with Cooks distance > 0.025 is R-squared higher, but the non-significance of GRE Score is also higher. "
   ]
  },
  {
   "cell_type": "code",
   "execution_count": 28,
   "metadata": {},
   "outputs": [
    {
     "data": {
      "text/html": [
       "<table class=\"simpletable\">\n",
       "<caption>OLS Regression Results</caption>\n",
       "<tr>\n",
       "  <th>Dep. Variable:</th>      <td>ChanceOfAdmit</td>  <th>  R-squared:         </th> <td>   0.866</td> \n",
       "</tr>\n",
       "<tr>\n",
       "  <th>Model:</th>                   <td>OLS</td>       <th>  Adj. R-squared:    </th> <td>   0.864</td> \n",
       "</tr>\n",
       "<tr>\n",
       "  <th>Method:</th>             <td>Least Squares</td>  <th>  F-statistic:       </th> <td>   441.1</td> \n",
       "</tr>\n",
       "<tr>\n",
       "  <th>Date:</th>             <td>Sun, 05 May 2024</td> <th>  Prob (F-statistic):</th> <td>4.80e-118</td>\n",
       "</tr>\n",
       "<tr>\n",
       "  <th>Time:</th>                 <td>11:26:54</td>     <th>  Log-Likelihood:    </th> <td>  552.82</td> \n",
       "</tr>\n",
       "<tr>\n",
       "  <th>No. Observations:</th>      <td>   279</td>      <th>  AIC:               </th> <td>  -1096.</td> \n",
       "</tr>\n",
       "<tr>\n",
       "  <th>Df Residuals:</th>          <td>   274</td>      <th>  BIC:               </th> <td>  -1077.</td> \n",
       "</tr>\n",
       "<tr>\n",
       "  <th>Df Model:</th>              <td>     4</td>      <th>                     </th>     <td> </td>    \n",
       "</tr>\n",
       "<tr>\n",
       "  <th>Covariance Type:</th>      <td>nonrobust</td>    <th>                     </th>     <td> </td>    \n",
       "</tr>\n",
       "</table>\n",
       "<table class=\"simpletable\">\n",
       "<tr>\n",
       "          <td></td>            <th>coef</th>     <th>std err</th>      <th>t</th>      <th>P>|t|</th>  <th>[0.025</th>    <th>0.975]</th>  \n",
       "</tr>\n",
       "<tr>\n",
       "  <th>Intercept</th>        <td>   -0.5713</td> <td>    0.054</td> <td>  -10.507</td> <td> 0.000</td> <td>   -0.678</td> <td>   -0.464</td>\n",
       "</tr>\n",
       "<tr>\n",
       "  <th>TOEFLscore</th>       <td>    0.0034</td> <td>    0.001</td> <td>    5.526</td> <td> 0.000</td> <td>    0.002</td> <td>    0.005</td>\n",
       "</tr>\n",
       "<tr>\n",
       "  <th>UniversityRating</th> <td>    0.0168</td> <td>    0.003</td> <td>    6.116</td> <td> 0.000</td> <td>    0.011</td> <td>    0.022</td>\n",
       "</tr>\n",
       "<tr>\n",
       "  <th>CGPA</th>             <td>    0.1035</td> <td>    0.007</td> <td>   13.884</td> <td> 0.000</td> <td>    0.089</td> <td>    0.118</td>\n",
       "</tr>\n",
       "<tr>\n",
       "  <th>Research</th>         <td>    0.0271</td> <td>    0.005</td> <td>    5.545</td> <td> 0.000</td> <td>    0.017</td> <td>    0.037</td>\n",
       "</tr>\n",
       "</table>\n",
       "<table class=\"simpletable\">\n",
       "<tr>\n",
       "  <th>Omnibus:</th>       <td>17.484</td> <th>  Durbin-Watson:     </th> <td>   1.226</td>\n",
       "</tr>\n",
       "<tr>\n",
       "  <th>Prob(Omnibus):</th> <td> 0.000</td> <th>  Jarque-Bera (JB):  </th> <td>  18.919</td>\n",
       "</tr>\n",
       "<tr>\n",
       "  <th>Skew:</th>          <td>-0.605</td> <th>  Prob(JB):          </th> <td>7.79e-05</td>\n",
       "</tr>\n",
       "<tr>\n",
       "  <th>Kurtosis:</th>      <td> 3.404</td> <th>  Cond. No.          </th> <td>2.98e+03</td>\n",
       "</tr>\n",
       "</table><br/><br/>Notes:<br/>[1] Standard Errors assume that the covariance matrix of the errors is correctly specified.<br/>[2] The condition number is large, 2.98e+03. This might indicate that there are<br/>strong multicollinearity or other numerical problems."
      ],
      "text/latex": [
       "\\begin{center}\n",
       "\\begin{tabular}{lclc}\n",
       "\\toprule\n",
       "\\textbf{Dep. Variable:}    &  ChanceOfAdmit   & \\textbf{  R-squared:         } &     0.866   \\\\\n",
       "\\textbf{Model:}            &       OLS        & \\textbf{  Adj. R-squared:    } &     0.864   \\\\\n",
       "\\textbf{Method:}           &  Least Squares   & \\textbf{  F-statistic:       } &     441.1   \\\\\n",
       "\\textbf{Date:}             & Sun, 05 May 2024 & \\textbf{  Prob (F-statistic):} & 4.80e-118   \\\\\n",
       "\\textbf{Time:}             &     11:26:54     & \\textbf{  Log-Likelihood:    } &    552.82   \\\\\n",
       "\\textbf{No. Observations:} &         279      & \\textbf{  AIC:               } &    -1096.   \\\\\n",
       "\\textbf{Df Residuals:}     &         274      & \\textbf{  BIC:               } &    -1077.   \\\\\n",
       "\\textbf{Df Model:}         &           4      & \\textbf{                     } &             \\\\\n",
       "\\textbf{Covariance Type:}  &    nonrobust     & \\textbf{                     } &             \\\\\n",
       "\\bottomrule\n",
       "\\end{tabular}\n",
       "\\begin{tabular}{lcccccc}\n",
       "                          & \\textbf{coef} & \\textbf{std err} & \\textbf{t} & \\textbf{P$> |$t$|$} & \\textbf{[0.025} & \\textbf{0.975]}  \\\\\n",
       "\\midrule\n",
       "\\textbf{Intercept}        &      -0.5713  &        0.054     &   -10.507  &         0.000        &       -0.678    &       -0.464     \\\\\n",
       "\\textbf{TOEFLscore}       &       0.0034  &        0.001     &     5.526  &         0.000        &        0.002    &        0.005     \\\\\n",
       "\\textbf{UniversityRating} &       0.0168  &        0.003     &     6.116  &         0.000        &        0.011    &        0.022     \\\\\n",
       "\\textbf{CGPA}             &       0.1035  &        0.007     &    13.884  &         0.000        &        0.089    &        0.118     \\\\\n",
       "\\textbf{Research}         &       0.0271  &        0.005     &     5.545  &         0.000        &        0.017    &        0.037     \\\\\n",
       "\\bottomrule\n",
       "\\end{tabular}\n",
       "\\begin{tabular}{lclc}\n",
       "\\textbf{Omnibus:}       & 17.484 & \\textbf{  Durbin-Watson:     } &    1.226  \\\\\n",
       "\\textbf{Prob(Omnibus):} &  0.000 & \\textbf{  Jarque-Bera (JB):  } &   18.919  \\\\\n",
       "\\textbf{Skew:}          & -0.605 & \\textbf{  Prob(JB):          } & 7.79e-05  \\\\\n",
       "\\textbf{Kurtosis:}      &  3.404 & \\textbf{  Cond. No.          } & 2.98e+03  \\\\\n",
       "\\bottomrule\n",
       "\\end{tabular}\n",
       "%\\caption{OLS Regression Results}\n",
       "\\end{center}\n",
       "\n",
       "Notes: \\newline\n",
       " [1] Standard Errors assume that the covariance matrix of the errors is correctly specified. \\newline\n",
       " [2] The condition number is large, 2.98e+03. This might indicate that there are \\newline\n",
       " strong multicollinearity or other numerical problems."
      ],
      "text/plain": [
       "<class 'statsmodels.iolib.summary.Summary'>\n",
       "\"\"\"\n",
       "                            OLS Regression Results                            \n",
       "==============================================================================\n",
       "Dep. Variable:          ChanceOfAdmit   R-squared:                       0.866\n",
       "Model:                            OLS   Adj. R-squared:                  0.864\n",
       "Method:                 Least Squares   F-statistic:                     441.1\n",
       "Date:                Sun, 05 May 2024   Prob (F-statistic):          4.80e-118\n",
       "Time:                        11:26:54   Log-Likelihood:                 552.82\n",
       "No. Observations:                 279   AIC:                            -1096.\n",
       "Df Residuals:                     274   BIC:                            -1077.\n",
       "Df Model:                           4                                         \n",
       "Covariance Type:            nonrobust                                         \n",
       "====================================================================================\n",
       "                       coef    std err          t      P>|t|      [0.025      0.975]\n",
       "------------------------------------------------------------------------------------\n",
       "Intercept           -0.5713      0.054    -10.507      0.000      -0.678      -0.464\n",
       "TOEFLscore           0.0034      0.001      5.526      0.000       0.002       0.005\n",
       "UniversityRating     0.0168      0.003      6.116      0.000       0.011       0.022\n",
       "CGPA                 0.1035      0.007     13.884      0.000       0.089       0.118\n",
       "Research             0.0271      0.005      5.545      0.000       0.017       0.037\n",
       "==============================================================================\n",
       "Omnibus:                       17.484   Durbin-Watson:                   1.226\n",
       "Prob(Omnibus):                  0.000   Jarque-Bera (JB):               18.919\n",
       "Skew:                          -0.605   Prob(JB):                     7.79e-05\n",
       "Kurtosis:                       3.404   Cond. No.                     2.98e+03\n",
       "==============================================================================\n",
       "\n",
       "Notes:\n",
       "[1] Standard Errors assume that the covariance matrix of the errors is correctly specified.\n",
       "[2] The condition number is large, 2.98e+03. This might indicate that there are\n",
       "strong multicollinearity or other numerical problems.\n",
       "\"\"\""
      ]
     },
     "execution_count": 28,
     "metadata": {},
     "output_type": "execute_result"
    }
   ],
   "source": [
    "# without GRE score\n",
    "# After Removing GRE Score is Adj. R-sqared a little bit higher.\n",
    "formula = \"ChanceOfAdmit ~ TOEFLscore + UniversityRating + CGPA + Research\"\n",
    "mod = smf.ols(formula=formula, data=df)\n",
    "res = mod.fit()\n",
    "res.summary()"
   ]
  }
 ],
 "metadata": {
  "kernelspec": {
   "display_name": "Python 3",
   "language": "python",
   "name": "python3"
  },
  "language_info": {
   "codemirror_mode": {
    "name": "ipython",
    "version": 3
   },
   "file_extension": ".py",
   "mimetype": "text/x-python",
   "name": "python",
   "nbconvert_exporter": "python",
   "pygments_lexer": "ipython3",
   "version": "3.12.3"
  }
 },
 "nbformat": 4,
 "nbformat_minor": 2
}
